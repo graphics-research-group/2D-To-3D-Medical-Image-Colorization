{
 "cells": [
  {
   "cell_type": "markdown",
   "metadata": {},
   "source": [
    "Code link for 2D optimization: http://blog.sws9f.org/computer-vision/2017/09/07/colorization-using-optimization-python.html\n",
    "\n",
    "Code link for Gatys Style Transfer: https://pytorch.org/tutorials/advanced/neural_style_tutorial.html"
   ]
  },
  {
   "cell_type": "code",
   "execution_count": 1,
   "metadata": {},
   "outputs": [],
   "source": [
    "import os\n",
    "import sys\n",
    "import tqdm\n",
    "import copy\n",
    "import torch\n",
    "import colorsys\n",
    "import logging\n",
    "\n",
    "import numpy as np\n",
    "import torch.nn as nn\n",
    "import skimage.io as io\n",
    "import scipy.misc as smi\n",
    "import SimpleITK as sitk\n",
    "import torch.optim as optim\n",
    "import matplotlib.pyplot as plt\n",
    "import torch.nn.functional as F\n",
    "import torchvision.models as models\n",
    "import torchvision.transforms as transforms\n",
    "\n",
    "from PIL import Image\n",
    "from pyamg import solve\n",
    "from skimage import exposure\n",
    "from torch.autograd import Variable\n",
    "from skimage.transform import resize\n",
    "from skimage import color, img_as_float\n",
    "from scipy.sparse.linalg import spsolve\n",
    "from scipy.sparse import csc_matrix, csr_matrix"
   ]
  },
  {
   "cell_type": "code",
   "execution_count": 2,
   "metadata": {},
   "outputs": [],
   "source": [
    "device = torch.device(\"cuda:1\" if torch.cuda.is_available() else \"cpu\")\n",
    "imsize = (256,256) if torch.cuda.is_available() else (32,32)"
   ]
  },
  {
   "cell_type": "code",
   "execution_count": 3,
   "metadata": {},
   "outputs": [],
   "source": [
    "OUTPUT_DIR = './New_Results_WACV/temp/'\n",
    "if(not os.path.exists(OUTPUT_DIR)):\n",
    "    os.makedirs(OUTPUT_DIR)\n",
    "\n",
    "np.set_printoptions(precision=8, suppress=True)"
   ]
  },
  {
   "cell_type": "markdown",
   "metadata": {},
   "source": [
    "# Inputs"
   ]
  },
  {
   "cell_type": "code",
   "execution_count": 4,
   "metadata": {},
   "outputs": [],
   "source": [
    "path_volume = './generated_test16.mhd'\n",
    "path_style_image = './style_images/style_image_4.png'"
   ]
  },
  {
   "cell_type": "markdown",
   "metadata": {},
   "source": [
    "# Gatys Neural Style Transfer Code"
   ]
  },
  {
   "cell_type": "markdown",
   "metadata": {},
   "source": [
    "#### Image Loader"
   ]
  },
  {
   "cell_type": "code",
   "execution_count": 5,
   "metadata": {},
   "outputs": [],
   "source": [
    "loader = transforms.Compose([\n",
    "    transforms.Resize(imsize),  # scale imported image\n",
    "    transforms.ToTensor()])  # transform it into a torch tensor\n",
    "\n",
    "\n",
    "def image_loader(image_name):\n",
    "    image = Image.open(image_name)\n",
    "    img = np.array(image)\n",
    "    # fake batch dimension required to fit network's input dimensions\n",
    "    image = loader(image).unsqueeze(0)\n",
    "    return image.to(device, torch.float), img.shape\n",
    "\n",
    "unloader = transforms.ToPILImage()  # reconvert into PIL image\n",
    "\n",
    "def imsave(tensor, title=None):\n",
    "    image = tensor.cpu().clone()  # we clone the tensor to not do changes on it\n",
    "    image = image.squeeze(0)      # remove the fake batch dimension\n",
    "    image = unloader(image)\n",
    "    return np.array(image)"
   ]
  },
  {
   "cell_type": "markdown",
   "metadata": {},
   "source": [
    "#### Loss Functions"
   ]
  },
  {
   "cell_type": "code",
   "execution_count": 6,
   "metadata": {},
   "outputs": [],
   "source": [
    "class ContentLoss(nn.Module):\n",
    "    def __init__(self, target,):\n",
    "        super(ContentLoss, self).__init__()\n",
    "        # we 'detach' the target content from the tree used\n",
    "        # to dynamically compute the gradient: this is a stated value,\n",
    "        # not a variable. Otherwise the forward method of the criterion\n",
    "        # will throw an error.\n",
    "        self.target = target.detach()\n",
    "\n",
    "    def forward(self, input):\n",
    "        self.loss = F.mse_loss(input, self.target)\n",
    "        return input\n",
    "    \n",
    "def gram_matrix(input):\n",
    "    a, b, c, d = input.size()  # a=batch size(=1)\n",
    "    # b=number of feature maps\n",
    "    # (c,d)=dimensions of a f. map (N=c*d)\n",
    "\n",
    "    features = input.view(a * b, c * d)  # resise F_XL into \\hat F_XL\n",
    "\n",
    "    G = torch.mm(features, features.t())  # compute the gram product\n",
    "\n",
    "    # we 'normalize' the values of the gram matrix\n",
    "    # by dividing by the number of element in each feature maps.\n",
    "    return G.div(a * b * c * d)\n",
    "\n",
    "class StyleLoss(nn.Module):\n",
    "    def __init__(self, target_feature):\n",
    "        super(StyleLoss, self).__init__()\n",
    "        self.target = gram_matrix(target_feature).detach()\n",
    "\n",
    "    def forward(self, input):\n",
    "        G = gram_matrix(input)\n",
    "        self.loss = F.mse_loss(G, self.target)\n",
    "        return input\n",
    "    \n",
    "class RGB2YUV(nn.Module):\n",
    "    def __init__(self):\n",
    "        super(RGB2YUV, self).__init__()\n",
    "    \n",
    "    def forward(self, input_img):\n",
    "        yuv = Variable(torch.zeros_like(input_img)) \n",
    "        yuv[:,0,:,:] = input_img[:,0,:,:]*0.2999+ (0.587 * input_img[:,1,:,:])  + 0.114 * input_img[:,2,:,:] \n",
    "        yuv[:,1,:,:] = input_img[:,0,:,:]*(-0.14713)+ (-0.28886 * input_img[:,1,:,:])  + 0.436 * input_img[:,2,:,:] \n",
    "        yuv[:,2,:,:] = input_img[:,0,:,:]*0.615 + (-0.51499 * input_img[:,1,:,:])  + (-0.10001 * input_img[:,2,:,:] )\n",
    "        \n",
    "        return yuv    \n",
    "    \n",
    "class TVLoss(nn.Module):\n",
    "    def __init__(self):\n",
    "        super(TVLoss, self).__init__()\n",
    "\n",
    "    def forward(self, input_img):\n",
    "        return torch.sum(torch.abs(input_img[:,:,:,:-1] - input_img[:,:,:,1:])) + torch.sum(torch.abs(input_img[:,:,:-1,:] - input_img[:,:,1:,:]))"
   ]
  },
  {
   "cell_type": "markdown",
   "metadata": {},
   "source": [
    "#### Initialize convolution layers"
   ]
  },
  {
   "cell_type": "code",
   "execution_count": 7,
   "metadata": {},
   "outputs": [],
   "source": [
    "class Normalization(nn.Module):\n",
    "    def __init__(self, mean, std):\n",
    "        super(Normalization, self).__init__()\n",
    "        # .view the mean and std to make them [C x 1 x 1] so that they can\n",
    "        # directly work with image Tensor of shape [B x C x H x W].\n",
    "        # B is batch size. C is number of channels. H is height and W is width.\n",
    "        self.mean = torch.tensor(mean).view(-1, 1, 1)\n",
    "        self.std = torch.tensor(std).view(-1, 1, 1)\n",
    "\n",
    "    def forward(self, img):\n",
    "        # normalize img\n",
    "        return (img - self.mean) / self.std\n",
    "    \n",
    "content_layers_default = ['conv_{}'.format(i) for i in range(1,8)]\n",
    "style_layers_default = ['conv_{}'.format(i) for i in range(1,8)]\n",
    "def get_style_model_and_losses(cnn, normalization_mean, normalization_std,\n",
    "                               style_img, content_img,\n",
    "                               content_layers=content_layers_default,\n",
    "                               style_layers=style_layers_default):\n",
    "    cnn = copy.deepcopy(cnn)\n",
    "\n",
    "    # normalization module\n",
    "    normalization = Normalization(normalization_mean, normalization_std).to(device)\n",
    "\n",
    "    # just in order to have an iterable access to or list of content/syle\n",
    "    # losses\n",
    "    content_losses = []\n",
    "    style_losses = []\n",
    "\n",
    "    # assuming that cnn is a nn.Sequential, so we make a new nn.Sequential\n",
    "    # to put in modules that are supposed to be activated sequentially\n",
    "    model = nn.Sequential(normalization)\n",
    "\n",
    "    i = 0  # increment every time we see a conv\n",
    "    for layer in cnn.children():\n",
    "        if isinstance(layer, nn.Conv2d):\n",
    "            i += 1\n",
    "            name = 'conv_{}'.format(i)\n",
    "        elif isinstance(layer, nn.ReLU):\n",
    "            name = 'relu_{}'.format(i)\n",
    "            # The in-place version doesn't play very nicely with the ContentLoss\n",
    "            # and StyleLoss we insert below. So we replace with out-of-place\n",
    "            # ones here.\n",
    "            layer = nn.ReLU(inplace=False)\n",
    "        elif isinstance(layer, nn.MaxPool2d):\n",
    "            name = 'pool_{}'.format(i)\n",
    "        elif isinstance(layer, nn.BatchNorm2d):\n",
    "            name = 'bn_{}'.format(i)\n",
    "        else:\n",
    "            raise RuntimeError('Unrecognized layer: {}'.format(layer.__class__.__name__))\n",
    "\n",
    "        model.add_module(name, layer)\n",
    "\n",
    "        if name in content_layers:\n",
    "            # add content loss:\n",
    "            target = model(content_img).detach()\n",
    "            content_loss = ContentLoss(target)\n",
    "            model.add_module(\"content_loss_{}\".format(i), content_loss)\n",
    "            content_losses.append(content_loss)\n",
    "\n",
    "        if name in style_layers:\n",
    "            # add style loss:\n",
    "            target_feature = model(style_img).detach()\n",
    "            style_loss = StyleLoss(target_feature)\n",
    "            model.add_module(\"style_loss_{}\".format(i), style_loss)\n",
    "            style_losses.append(style_loss)\n",
    "\n",
    "    # now we trim off the layers after the last content and style losses\n",
    "    for i in range(len(model) - 1, -1, -1):\n",
    "        if isinstance(model[i], ContentLoss) or isinstance(model[i], StyleLoss):\n",
    "            break\n",
    "\n",
    "    model = model[:(i + 1)]\n",
    "\n",
    "    return model, style_losses, content_losses"
   ]
  },
  {
   "cell_type": "markdown",
   "metadata": {},
   "source": [
    "#### Optimizer"
   ]
  },
  {
   "cell_type": "code",
   "execution_count": 8,
   "metadata": {},
   "outputs": [],
   "source": [
    "def get_input_optimizer(input_img):\n",
    "    # this line to show that input is a parameter that requires a gradient\n",
    "    optimizer = optim.LBFGS([input_img.requires_grad_()], lr=1.0e0)\n",
    "    return optimizer"
   ]
  },
  {
   "cell_type": "code",
   "execution_count": 9,
   "metadata": {},
   "outputs": [],
   "source": [
    "def run_style_transfer(cnn, normalization_mean, normalization_std,\n",
    "                       content_img, style_img, input_img, num=0, num_steps=300,\n",
    "                       style_weight=1000000, content_weight=1, tv_weight=2e-2, diff_weight=1e-1):\n",
    "    \"\"\"Run the style transfer.\"\"\"\n",
    "    print('Building the style transfer model..')\n",
    "    model, style_losses, content_losses = get_style_model_and_losses(cnn,\n",
    "        normalization_mean, normalization_std, style_img, content_img)\n",
    "    optimizer = get_input_optimizer(input_img)\n",
    "    rgb2yuv = RGB2YUV().to(device)\n",
    "    criterion_tv = TVLoss().to(device)\n",
    "\n",
    "    print('Optimizing..')\n",
    "    run = [0]\n",
    "    while run[0] <= num_steps:\n",
    "\n",
    "        def closure():\n",
    "            # correct the values of updated input image\n",
    "            input_img.data.clamp_(0, 1)\n",
    "\n",
    "            optimizer.zero_grad()\n",
    "            model(input_img)\n",
    "            \n",
    "            rgb2yuv_img = rgb2yuv(input_img)\n",
    "            tv_loss = tv_weight * (torch.sum(torch.abs(rgb2yuv_img[:, 1:3 , :, :-1] - rgb2yuv_img[:, 1:3 ,:, 1:]))\\\n",
    "                                   + torch.sum(torch.abs(rgb2yuv_img[:, 1:3 , :-1, :] - rgb2yuv_img[:, 1:3 , 1:,:])))\n",
    "            tv_loss_content_img = tv_weight * criterion_tv(content_img)\n",
    "            diff_loss = torch.abs(tv_loss - tv_loss_content_img)\n",
    "            total_loss = tv_loss + diff_weight * diff_loss\n",
    "            \n",
    "            total_loss.backward(retain_graph=True)\n",
    "            \n",
    "            style_score = 0\n",
    "            content_score = 0\n",
    "\n",
    "            for sl in style_losses:\n",
    "                style_score += sl.loss\n",
    "            for cl in content_losses:\n",
    "                content_score += cl.loss\n",
    "\n",
    "            style_score *= style_weight\n",
    "            content_score *= content_weight\n",
    "\n",
    "            loss = style_score + content_score\n",
    "            loss.backward()\n",
    "\n",
    "            run[0] += 1\n",
    "            if run[0] % 50 == 0:\n",
    "                print(\"run {}:\".format(run))\n",
    "                print('Style Loss : {:4f} Content Loss: {:4f}, TV Loss:{:.4f} Diff Loss: {:.4f} '.format(\n",
    "                    style_score.item(), content_score.item(), tv_loss.item(), diff_loss.item()))\n",
    "                print()\n",
    "                output_img = resize(imsave(input_img), input_img.shape[2:])\n",
    "#                 io.imsave(OUTPUT_DIR + 'test_{}_{}.png'.format(num, run), output_img)\n",
    "\n",
    "            return style_score + content_score\n",
    "\n",
    "        optimizer.step(closure)\n",
    "\n",
    "    # a last correction...\n",
    "    input_img.data.clamp_(0, 1)\n",
    "\n",
    "    return input_img"
   ]
  },
  {
   "cell_type": "markdown",
   "metadata": {},
   "source": [
    "# Preprocessing"
   ]
  },
  {
   "cell_type": "code",
   "execution_count": 10,
   "metadata": {},
   "outputs": [],
   "source": [
    "def read_numpy_volume(path):\n",
    "    vol = sitk.ReadImage(path)\n",
    "    np_vol = sitk.GetArrayFromImage(vol)\n",
    "\n",
    "    # np_vol = (np_vol - np.min(np_vol)) / (np.max(np_vol) - np.min(np_vol))\n",
    "\n",
    "    return np_vol\n",
    "\n",
    "def to_grey(np_vol):\n",
    "    if(len(np_vol.shape)==4):\n",
    "        h,ww,l,c = np_vol.shape\n",
    "    else:\n",
    "        h,ww,l = np_vol.shape\n",
    "    \n",
    "    grey = np.zeros((h,ww,l,3))\n",
    "    \n",
    "    for i in range(h):\n",
    "        if(len(np_vol.shape)==4):\n",
    "            grey_img = color.rgb2gray(np_vol[i,:,:])\n",
    "        else:\n",
    "            grey_img = np_vol[i,:,:]\n",
    "        \n",
    "        if(np.max(grey_img)>1):\n",
    "            grey_img = grey_img / 255.0\n",
    "        \n",
    "        grey[i,:,:,0], grey[i,:,:,1], grey[i,:,:,2] = grey_img, grey_img, grey_img\n",
    "    \n",
    "    return grey\n",
    "\n",
    "def generate_hints(grey_vol, color_vol, offset=10, axis='x', save=True):\n",
    "    h,ww,l,c = grey_vol.shape\n",
    "    out_vol = np.zeros((h,ww,l,c))\n",
    "    out_vol = grey_vol.copy()\n",
    "    \n",
    "    cnn = models.vgg19(pretrained=True).features.to(device).eval()\n",
    "\n",
    "    cnn_normalization_mean = torch.tensor([0.485, 0.456, 0.406]).to(device)\n",
    "    cnn_normalization_std = torch.tensor([0.229, 0.224, 0.225]).to(device)\n",
    "\n",
    "    slices = []\n",
    "    if(axis=='x'):\n",
    "        num_hints = h // offset\n",
    "        for i in range(num_hints):\n",
    "            slices.append(grey_vol[i*offset,:,:,:])\n",
    "    elif(axis=='y'):\n",
    "        num_hints = ww // offset\n",
    "        for i in range(num_hints):\n",
    "            slices.append(grey_vol[:,i*offset,:,:])\n",
    "    else:\n",
    "        num_hints = l // offset\n",
    "        for i in range(num_hints):\n",
    "            slices.append(grey_vol[:,:,i*offset,:])\n",
    "\n",
    "    for i in tqdm.trange(num_hints):\n",
    "        curr_slices = slices[i]\n",
    "        \n",
    "        if save:\n",
    "            io.imsave(OUTPUT_DIR+'/l_channel.png', curr_slices)\n",
    "            io.imsave(OUTPUT_DIR+'/l_channel_{}.png'.format(i), curr_slices)\n",
    "\n",
    "        content_img, content_shape = image_loader(OUTPUT_DIR+'l_channel.png')\n",
    "        style_img, _ = image_loader(path_style_image)\n",
    "        \n",
    "        input_img = content_img.clone()\n",
    "\n",
    "        output = run_style_transfer(cnn, cnn_normalization_mean, cnn_normalization_std,\n",
    "                                    content_img, style_img, input_img, num=i, num_steps=500, \n",
    "                                content_weight=2.5, tv_weight=2e-1, diff_weight=0)\n",
    "\n",
    "        output_img = resize(imsave(output), content_shape[:2])\n",
    "        io.imsave(OUTPUT_DIR+'test_{}.png'.format(i), output_img)\n",
    "\n",
    "        if(axis=='x'):\n",
    "            out_vol[i*offset,:,:,:] = img_as_float(io.imread(OUTPUT_DIR+'test_{}.png'.format(i)))\n",
    "        elif(axis=='y'):\n",
    "            out_vol[:,i*offset,:,:] = img_as_float(io.imread(OUTPUT_DIR+'test_{}.png'.format(i)))\n",
    "        else:\n",
    "            out_vol[:,:,i*offset,:] = img_as_float(io.imread(OUTPUT_DIR+'test_{}.png'.format(i)))\n",
    "    \n",
    "    return out_vol"
   ]
  },
  {
   "cell_type": "markdown",
   "metadata": {},
   "source": [
    "# Optimization Code"
   ]
  },
  {
   "cell_type": "code",
   "execution_count": 11,
   "metadata": {},
   "outputs": [],
   "source": [
    "class WindowNeighbor:\n",
    "    def __init__(self, width, center, pic):\n",
    "        # center is a list of [row, col, Y_intensity]\n",
    "        self.center = [center[0], center[1], center[2], pic[center][0]]\n",
    "        self.width = width\n",
    "        self.neighbors = None\n",
    "        self.find_neighbors(pic)\n",
    "        self.mean = None\n",
    "        self.var = None\n",
    "\n",
    "    def find_neighbors(self, pic):\n",
    "        self.neighbors = []\n",
    "        ix_r_min = max(0, self.center[0] - self.width)\n",
    "        ix_r_max = min(pic.shape[0], self.center[0] + self.width + 1)\n",
    "        ix_c_min = max(0, self.center[1] - self.width)\n",
    "        ix_c_max = min(pic.shape[1], self.center[1] + self.width + 1)\n",
    "        ix_l_min = max(0, self.center[2] - self.width)\n",
    "        ix_l_max = min(pic.shape[2], self.center[2] + self.width + 1)\n",
    "        for r in range(ix_r_min, ix_r_max):\n",
    "            for c in range(ix_c_min, ix_c_max):\n",
    "                for l in range(ix_l_min, ix_l_max):\n",
    "                    if r == self.center[0] and c == self.center[1] and l ==self.center[2]:\n",
    "                        continue\n",
    "                    self.neighbors.append([r,c,l,pic[r,c,l,0]])\n",
    "\n",
    "    def __str__(self):\n",
    "        return 'windows c=(%d, %d, %f) size: %d' % (self.center[0], self.center[1], self.center[2], len(self.neighbors))\n",
    "\n",
    "# affinity functions, calculate weights of pixels in a window by their intensity.\n",
    "def affinity_a(w):\n",
    "    nbs = np.array(w.neighbors)\n",
    "    sY = nbs[:,3]\n",
    "    cY = w.center[3]\n",
    "    diff = sY - cY\n",
    "    sig = np.var(np.append(sY, cY))\n",
    "    if sig < 1e-6:\n",
    "        sig = 1e-6  \n",
    "    wrs = np.exp(- np.power(diff,2) / (sig * 2.0))\n",
    "    wrs = - wrs / np.sum(wrs)\n",
    "    nbs[:,3] = wrs\n",
    "    return nbs\n",
    "\n",
    "# translate (row,col) to/from sequential number\n",
    "def to_seq(i,j,k, grey_vol):\n",
    "    index = np.ravel_multi_index([int(i),int(j),int(k)], grey_vol[:,:,:,0].shape)\n",
    "    return index\n",
    "\n",
    "def fr_seq(seq, rows):\n",
    "    r = seq % rows\n",
    "    c = int((seq - r) / rows)\n",
    "    return (r, c)\n",
    "\n",
    "# combine 3 channels of YUV to a RGB photo: n x n x n x 3 array\n",
    "def yuv_channels_to_rgb(cY,cU,cV, h, ww, l):\n",
    "    ansRGB = [colorsys.yiq_to_rgb(cY[i],cU[i],cV[i]) for i in range(len(cY))]\n",
    "    ansRGB = np.array(ansRGB)\n",
    "    pic_ansRGB = np.zeros((h, ww, l, 3))\n",
    "    pic_ansRGB[:,:,:,0] = ansRGB[:,0].reshape(h, ww, l, order='C')\n",
    "    pic_ansRGB[:,:,:,1] = ansRGB[:,1].reshape(h, ww, l, order='C')\n",
    "    pic_ansRGB[:,:,:,2] = ansRGB[:,2].reshape(h, ww, l, order='C')\n",
    "    return pic_ansRGB"
   ]
  },
  {
   "cell_type": "markdown",
   "metadata": {},
   "source": [
    "### Run preprocessing"
   ]
  },
  {
   "cell_type": "code",
   "execution_count": 12,
   "metadata": {},
   "outputs": [],
   "source": [
    "off = 5\n",
    "ax = 'x'"
   ]
  },
  {
   "cell_type": "code",
   "execution_count": 13,
   "metadata": {
    "scrolled": true
   },
   "outputs": [
    {
     "name": "stdout",
     "output_type": "stream",
     "text": [
      "The shape of input volume = (128, 128, 88, 3)\n"
     ]
    },
    {
     "name": "stderr",
     "output_type": "stream",
     "text": [
      "  0%|          | 0/25 [00:00<?, ?it/s]Lossy conversion from float64 to uint8. Range [0, 1]. Convert image to uint8 prior to saving to suppress this warning.\n",
      "Lossy conversion from float64 to uint8. Range [0, 1]. Convert image to uint8 prior to saving to suppress this warning.\n",
      "/home/aradhya/anaconda3/envs/torchenv/lib/python3.7/site-packages/ipykernel_launcher.py:7: UserWarning: To copy construct from a tensor, it is recommended to use sourceTensor.clone().detach() or sourceTensor.clone().detach().requires_grad_(True), rather than torch.tensor(sourceTensor).\n",
      "  import sys\n",
      "/home/aradhya/anaconda3/envs/torchenv/lib/python3.7/site-packages/ipykernel_launcher.py:8: UserWarning: To copy construct from a tensor, it is recommended to use sourceTensor.clone().detach() or sourceTensor.clone().detach().requires_grad_(True), rather than torch.tensor(sourceTensor).\n",
      "  \n"
     ]
    },
    {
     "name": "stdout",
     "output_type": "stream",
     "text": [
      "Building the style transfer model..\n",
      "Optimizing..\n"
     ]
    },
    {
     "name": "stderr",
     "output_type": "stream",
     "text": [
      "Lossy conversion from float64 to uint8. Range [0, 1]. Convert image to uint8 prior to saving to suppress this warning.\n"
     ]
    },
    {
     "name": "stdout",
     "output_type": "stream",
     "text": [
      "run [50]:\n",
      "Style Loss : 1009.326538 Content Loss: 318.865448, TV Loss:156.6232 Diff Loss: 30.3274 \n",
      "\n"
     ]
    },
    {
     "name": "stderr",
     "output_type": "stream",
     "text": [
      "Lossy conversion from float64 to uint8. Range [0, 1]. Convert image to uint8 prior to saving to suppress this warning.\n"
     ]
    },
    {
     "name": "stdout",
     "output_type": "stream",
     "text": [
      "run [100]:\n",
      "Style Loss : 350.189545 Content Loss: 332.863586, TV Loss:123.7552 Diff Loss: 63.1954 \n",
      "\n"
     ]
    },
    {
     "name": "stderr",
     "output_type": "stream",
     "text": [
      "Lossy conversion from float64 to uint8. Range [0, 1]. Convert image to uint8 prior to saving to suppress this warning.\n"
     ]
    },
    {
     "name": "stdout",
     "output_type": "stream",
     "text": [
      "run [150]:\n",
      "Style Loss : 141.516342 Content Loss: 335.890472, TV Loss:93.9158 Diff Loss: 93.0348 \n",
      "\n"
     ]
    },
    {
     "name": "stderr",
     "output_type": "stream",
     "text": [
      "Lossy conversion from float64 to uint8. Range [0, 1]. Convert image to uint8 prior to saving to suppress this warning.\n"
     ]
    },
    {
     "name": "stdout",
     "output_type": "stream",
     "text": [
      "run [200]:\n",
      "Style Loss : 80.109200 Content Loss: 335.891174, TV Loss:78.4652 Diff Loss: 108.4854 \n",
      "\n"
     ]
    },
    {
     "name": "stderr",
     "output_type": "stream",
     "text": [
      "Lossy conversion from float64 to uint8. Range [0, 1]. Convert image to uint8 prior to saving to suppress this warning.\n"
     ]
    },
    {
     "name": "stdout",
     "output_type": "stream",
     "text": [
      "run [250]:\n",
      "Style Loss : 57.996300 Content Loss: 335.805206, TV Loss:71.4842 Diff Loss: 115.4664 \n",
      "\n"
     ]
    },
    {
     "name": "stderr",
     "output_type": "stream",
     "text": [
      "Lossy conversion from float64 to uint8. Range [0, 1]. Convert image to uint8 prior to saving to suppress this warning.\n"
     ]
    },
    {
     "name": "stdout",
     "output_type": "stream",
     "text": [
      "run [300]:\n",
      "Style Loss : 47.337326 Content Loss: 335.459412, TV Loss:67.0282 Diff Loss: 119.9224 \n",
      "\n"
     ]
    },
    {
     "name": "stderr",
     "output_type": "stream",
     "text": [
      "Lossy conversion from float64 to uint8. Range [0, 1]. Convert image to uint8 prior to saving to suppress this warning.\n"
     ]
    },
    {
     "name": "stdout",
     "output_type": "stream",
     "text": [
      "run [350]:\n",
      "Style Loss : 42.119808 Content Loss: 335.090454, TV Loss:63.3347 Diff Loss: 123.6158 \n",
      "\n"
     ]
    },
    {
     "name": "stderr",
     "output_type": "stream",
     "text": [
      "Lossy conversion from float64 to uint8. Range [0, 1]. Convert image to uint8 prior to saving to suppress this warning.\n"
     ]
    },
    {
     "name": "stdout",
     "output_type": "stream",
     "text": [
      "run [400]:\n",
      "Style Loss : 39.094772 Content Loss: 334.625885, TV Loss:60.8635 Diff Loss: 126.0871 \n",
      "\n"
     ]
    },
    {
     "name": "stderr",
     "output_type": "stream",
     "text": [
      "Lossy conversion from float64 to uint8. Range [0, 1]. Convert image to uint8 prior to saving to suppress this warning.\n"
     ]
    },
    {
     "name": "stdout",
     "output_type": "stream",
     "text": [
      "run [450]:\n",
      "Style Loss : 37.095005 Content Loss: 334.419861, TV Loss:59.1661 Diff Loss: 127.7845 \n",
      "\n"
     ]
    },
    {
     "name": "stderr",
     "output_type": "stream",
     "text": [
      "Lossy conversion from float64 to uint8. Range [0, 1]. Convert image to uint8 prior to saving to suppress this warning.\n"
     ]
    },
    {
     "name": "stdout",
     "output_type": "stream",
     "text": [
      "run [500]:\n",
      "Style Loss : 35.710194 Content Loss: 334.123566, TV Loss:57.5394 Diff Loss: 129.4112 \n",
      "\n"
     ]
    },
    {
     "name": "stderr",
     "output_type": "stream",
     "text": [
      "Lossy conversion from float64 to uint8. Range [0, 1]. Convert image to uint8 prior to saving to suppress this warning.\n",
      "  4%|▍         | 1/25 [00:22<09:00, 22.50s/it]Lossy conversion from float64 to uint8. Range [0, 1]. Convert image to uint8 prior to saving to suppress this warning.\n",
      "Lossy conversion from float64 to uint8. Range [0, 1]. Convert image to uint8 prior to saving to suppress this warning.\n"
     ]
    },
    {
     "name": "stdout",
     "output_type": "stream",
     "text": [
      "Building the style transfer model..\n",
      "Optimizing..\n"
     ]
    },
    {
     "name": "stderr",
     "output_type": "stream",
     "text": [
      "Lossy conversion from float64 to uint8. Range [0, 1]. Convert image to uint8 prior to saving to suppress this warning.\n"
     ]
    },
    {
     "name": "stdout",
     "output_type": "stream",
     "text": [
      "run [50]:\n",
      "Style Loss : 372.475983 Content Loss: 259.507629, TV Loss:106.1027 Diff Loss: 343.7090 \n",
      "\n"
     ]
    },
    {
     "name": "stderr",
     "output_type": "stream",
     "text": [
      "Lossy conversion from float64 to uint8. Range [0, 1]. Convert image to uint8 prior to saving to suppress this warning.\n"
     ]
    },
    {
     "name": "stdout",
     "output_type": "stream",
     "text": [
      "run [100]:\n",
      "Style Loss : 211.635056 Content Loss: 252.574402, TV Loss:73.9599 Diff Loss: 375.8518 \n",
      "\n"
     ]
    },
    {
     "name": "stderr",
     "output_type": "stream",
     "text": [
      "Lossy conversion from float64 to uint8. Range [0, 1]. Convert image to uint8 prior to saving to suppress this warning.\n"
     ]
    },
    {
     "name": "stdout",
     "output_type": "stream",
     "text": [
      "run [150]:\n",
      "Style Loss : 159.819443 Content Loss: 249.035110, TV Loss:66.7940 Diff Loss: 383.0177 \n",
      "\n"
     ]
    },
    {
     "name": "stderr",
     "output_type": "stream",
     "text": [
      "Lossy conversion from float64 to uint8. Range [0, 1]. Convert image to uint8 prior to saving to suppress this warning.\n"
     ]
    },
    {
     "name": "stdout",
     "output_type": "stream",
     "text": [
      "run [200]:\n",
      "Style Loss : 130.217850 Content Loss: 248.457397, TV Loss:63.0309 Diff Loss: 386.7809 \n",
      "\n"
     ]
    },
    {
     "name": "stderr",
     "output_type": "stream",
     "text": [
      "Lossy conversion from float64 to uint8. Range [0, 1]. Convert image to uint8 prior to saving to suppress this warning.\n"
     ]
    },
    {
     "name": "stdout",
     "output_type": "stream",
     "text": [
      "run [250]:\n",
      "Style Loss : 114.920410 Content Loss: 247.971375, TV Loss:60.8215 Diff Loss: 388.9903 \n",
      "\n"
     ]
    },
    {
     "name": "stderr",
     "output_type": "stream",
     "text": [
      "Lossy conversion from float64 to uint8. Range [0, 1]. Convert image to uint8 prior to saving to suppress this warning.\n"
     ]
    },
    {
     "name": "stdout",
     "output_type": "stream",
     "text": [
      "run [300]:\n",
      "Style Loss : 105.477913 Content Loss: 247.498383, TV Loss:59.4635 Diff Loss: 390.3482 \n",
      "\n"
     ]
    },
    {
     "name": "stderr",
     "output_type": "stream",
     "text": [
      "Lossy conversion from float64 to uint8. Range [0, 1]. Convert image to uint8 prior to saving to suppress this warning.\n"
     ]
    },
    {
     "name": "stdout",
     "output_type": "stream",
     "text": [
      "run [350]:\n",
      "Style Loss : 99.247711 Content Loss: 246.900085, TV Loss:58.4759 Diff Loss: 391.3359 \n",
      "\n"
     ]
    },
    {
     "name": "stderr",
     "output_type": "stream",
     "text": [
      "Lossy conversion from float64 to uint8. Range [0, 1]. Convert image to uint8 prior to saving to suppress this warning.\n"
     ]
    },
    {
     "name": "stdout",
     "output_type": "stream",
     "text": [
      "run [400]:\n",
      "Style Loss : 94.176620 Content Loss: 246.590195, TV Loss:57.7253 Diff Loss: 392.0865 \n",
      "\n"
     ]
    },
    {
     "name": "stderr",
     "output_type": "stream",
     "text": [
      "Lossy conversion from float64 to uint8. Range [0, 1]. Convert image to uint8 prior to saving to suppress this warning.\n"
     ]
    },
    {
     "name": "stdout",
     "output_type": "stream",
     "text": [
      "run [450]:\n",
      "Style Loss : 90.188797 Content Loss: 246.178436, TV Loss:56.9502 Diff Loss: 392.8616 \n",
      "\n"
     ]
    },
    {
     "name": "stderr",
     "output_type": "stream",
     "text": [
      "Lossy conversion from float64 to uint8. Range [0, 1]. Convert image to uint8 prior to saving to suppress this warning.\n"
     ]
    },
    {
     "name": "stdout",
     "output_type": "stream",
     "text": [
      "run [500]:\n",
      "Style Loss : 86.850708 Content Loss: 245.821304, TV Loss:56.2864 Diff Loss: 393.5253 \n",
      "\n"
     ]
    },
    {
     "name": "stderr",
     "output_type": "stream",
     "text": [
      "Lossy conversion from float64 to uint8. Range [0, 1]. Convert image to uint8 prior to saving to suppress this warning.\n",
      "  8%|▊         | 2/25 [00:44<08:31, 22.24s/it]Lossy conversion from float64 to uint8. Range [0, 1]. Convert image to uint8 prior to saving to suppress this warning.\n",
      "Lossy conversion from float64 to uint8. Range [0, 1]. Convert image to uint8 prior to saving to suppress this warning.\n"
     ]
    },
    {
     "name": "stdout",
     "output_type": "stream",
     "text": [
      "Building the style transfer model..\n",
      "Optimizing..\n"
     ]
    },
    {
     "name": "stderr",
     "output_type": "stream",
     "text": [
      "Lossy conversion from float64 to uint8. Range [0, 1]. Convert image to uint8 prior to saving to suppress this warning.\n"
     ]
    },
    {
     "name": "stdout",
     "output_type": "stream",
     "text": [
      "run [50]:\n",
      "Style Loss : 280.065674 Content Loss: 232.294998, TV Loss:97.0013 Diff Loss: 478.3069 \n",
      "\n"
     ]
    },
    {
     "name": "stderr",
     "output_type": "stream",
     "text": [
      "Lossy conversion from float64 to uint8. Range [0, 1]. Convert image to uint8 prior to saving to suppress this warning.\n"
     ]
    },
    {
     "name": "stdout",
     "output_type": "stream",
     "text": [
      "run [100]:\n",
      "Style Loss : 177.152740 Content Loss: 224.210632, TV Loss:71.4570 Diff Loss: 503.8513 \n",
      "\n"
     ]
    },
    {
     "name": "stderr",
     "output_type": "stream",
     "text": [
      "Lossy conversion from float64 to uint8. Range [0, 1]. Convert image to uint8 prior to saving to suppress this warning.\n"
     ]
    },
    {
     "name": "stdout",
     "output_type": "stream",
     "text": [
      "run [150]:\n",
      "Style Loss : 134.211380 Content Loss: 221.338882, TV Loss:65.8595 Diff Loss: 509.4488 \n",
      "\n"
     ]
    },
    {
     "name": "stderr",
     "output_type": "stream",
     "text": [
      "Lossy conversion from float64 to uint8. Range [0, 1]. Convert image to uint8 prior to saving to suppress this warning.\n"
     ]
    },
    {
     "name": "stdout",
     "output_type": "stream",
     "text": [
      "run [200]:\n",
      "Style Loss : 109.199783 Content Loss: 220.060654, TV Loss:62.9284 Diff Loss: 512.3799 \n",
      "\n"
     ]
    },
    {
     "name": "stderr",
     "output_type": "stream",
     "text": [
      "Lossy conversion from float64 to uint8. Range [0, 1]. Convert image to uint8 prior to saving to suppress this warning.\n"
     ]
    },
    {
     "name": "stdout",
     "output_type": "stream",
     "text": [
      "run [250]:\n",
      "Style Loss : 96.821182 Content Loss: 219.144714, TV Loss:60.8188 Diff Loss: 514.4895 \n",
      "\n"
     ]
    },
    {
     "name": "stderr",
     "output_type": "stream",
     "text": [
      "Lossy conversion from float64 to uint8. Range [0, 1]. Convert image to uint8 prior to saving to suppress this warning.\n"
     ]
    },
    {
     "name": "stdout",
     "output_type": "stream",
     "text": [
      "run [300]:\n",
      "Style Loss : 89.859543 Content Loss: 218.224487, TV Loss:59.3729 Diff Loss: 515.9354 \n",
      "\n"
     ]
    },
    {
     "name": "stderr",
     "output_type": "stream",
     "text": [
      "Lossy conversion from float64 to uint8. Range [0, 1]. Convert image to uint8 prior to saving to suppress this warning.\n"
     ]
    },
    {
     "name": "stdout",
     "output_type": "stream",
     "text": [
      "run [350]:\n",
      "Style Loss : 85.190247 Content Loss: 217.658508, TV Loss:58.3038 Diff Loss: 517.0045 \n",
      "\n"
     ]
    },
    {
     "name": "stderr",
     "output_type": "stream",
     "text": [
      "Lossy conversion from float64 to uint8. Range [0, 1]. Convert image to uint8 prior to saving to suppress this warning.\n"
     ]
    },
    {
     "name": "stdout",
     "output_type": "stream",
     "text": [
      "run [400]:\n",
      "Style Loss : 81.899727 Content Loss: 217.145462, TV Loss:57.4464 Diff Loss: 517.8618 \n",
      "\n"
     ]
    },
    {
     "name": "stderr",
     "output_type": "stream",
     "text": [
      "Lossy conversion from float64 to uint8. Range [0, 1]. Convert image to uint8 prior to saving to suppress this warning.\n"
     ]
    },
    {
     "name": "stdout",
     "output_type": "stream",
     "text": [
      "run [450]:\n",
      "Style Loss : 79.410606 Content Loss: 216.703629, TV Loss:56.7603 Diff Loss: 518.5480 \n",
      "\n"
     ]
    },
    {
     "name": "stderr",
     "output_type": "stream",
     "text": [
      "Lossy conversion from float64 to uint8. Range [0, 1]. Convert image to uint8 prior to saving to suppress this warning.\n"
     ]
    },
    {
     "name": "stdout",
     "output_type": "stream",
     "text": [
      "run [500]:\n",
      "Style Loss : 77.322792 Content Loss: 216.383148, TV Loss:56.2262 Diff Loss: 519.0821 \n",
      "\n"
     ]
    },
    {
     "name": "stderr",
     "output_type": "stream",
     "text": [
      "Lossy conversion from float64 to uint8. Range [0, 1]. Convert image to uint8 prior to saving to suppress this warning.\n",
      " 12%|█▏        | 3/25 [01:05<08:05, 22.06s/it]Lossy conversion from float64 to uint8. Range [0, 1]. Convert image to uint8 prior to saving to suppress this warning.\n",
      "Lossy conversion from float64 to uint8. Range [0, 1]. Convert image to uint8 prior to saving to suppress this warning.\n"
     ]
    },
    {
     "name": "stdout",
     "output_type": "stream",
     "text": [
      "Building the style transfer model..\n",
      "Optimizing..\n"
     ]
    },
    {
     "name": "stderr",
     "output_type": "stream",
     "text": [
      "Lossy conversion from float64 to uint8. Range [0, 1]. Convert image to uint8 prior to saving to suppress this warning.\n"
     ]
    },
    {
     "name": "stdout",
     "output_type": "stream",
     "text": [
      "run [50]:\n",
      "Style Loss : 225.099060 Content Loss: 207.426086, TV Loss:93.7032 Diff Loss: 604.0875 \n",
      "\n"
     ]
    },
    {
     "name": "stderr",
     "output_type": "stream",
     "text": [
      "Lossy conversion from float64 to uint8. Range [0, 1]. Convert image to uint8 prior to saving to suppress this warning.\n"
     ]
    },
    {
     "name": "stdout",
     "output_type": "stream",
     "text": [
      "run [100]:\n",
      "Style Loss : 144.956451 Content Loss: 200.768524, TV Loss:69.7123 Diff Loss: 628.0784 \n",
      "\n"
     ]
    },
    {
     "name": "stderr",
     "output_type": "stream",
     "text": [
      "Lossy conversion from float64 to uint8. Range [0, 1]. Convert image to uint8 prior to saving to suppress this warning.\n"
     ]
    },
    {
     "name": "stdout",
     "output_type": "stream",
     "text": [
      "run [150]:\n",
      "Style Loss : 110.042847 Content Loss: 198.226868, TV Loss:63.9864 Diff Loss: 633.8042 \n",
      "\n"
     ]
    },
    {
     "name": "stderr",
     "output_type": "stream",
     "text": [
      "Lossy conversion from float64 to uint8. Range [0, 1]. Convert image to uint8 prior to saving to suppress this warning.\n"
     ]
    },
    {
     "name": "stdout",
     "output_type": "stream",
     "text": [
      "run [200]:\n",
      "Style Loss : 90.084114 Content Loss: 197.192719, TV Loss:61.2601 Diff Loss: 636.5305 \n",
      "\n"
     ]
    },
    {
     "name": "stderr",
     "output_type": "stream",
     "text": [
      "Lossy conversion from float64 to uint8. Range [0, 1]. Convert image to uint8 prior to saving to suppress this warning.\n"
     ]
    },
    {
     "name": "stdout",
     "output_type": "stream",
     "text": [
      "run [250]:\n",
      "Style Loss : 80.087166 Content Loss: 196.417206, TV Loss:59.5431 Diff Loss: 638.2475 \n",
      "\n"
     ]
    },
    {
     "name": "stderr",
     "output_type": "stream",
     "text": [
      "Lossy conversion from float64 to uint8. Range [0, 1]. Convert image to uint8 prior to saving to suppress this warning.\n"
     ]
    },
    {
     "name": "stdout",
     "output_type": "stream",
     "text": [
      "run [300]:\n",
      "Style Loss : 74.348343 Content Loss: 195.730194, TV Loss:58.2821 Diff Loss: 639.5085 \n",
      "\n"
     ]
    },
    {
     "name": "stderr",
     "output_type": "stream",
     "text": [
      "Lossy conversion from float64 to uint8. Range [0, 1]. Convert image to uint8 prior to saving to suppress this warning.\n"
     ]
    },
    {
     "name": "stdout",
     "output_type": "stream",
     "text": [
      "run [350]:\n",
      "Style Loss : 70.536392 Content Loss: 195.252060, TV Loss:57.3442 Diff Loss: 640.4464 \n",
      "\n"
     ]
    },
    {
     "name": "stderr",
     "output_type": "stream",
     "text": [
      "Lossy conversion from float64 to uint8. Range [0, 1]. Convert image to uint8 prior to saving to suppress this warning.\n"
     ]
    },
    {
     "name": "stdout",
     "output_type": "stream",
     "text": [
      "run [400]:\n",
      "Style Loss : 67.913338 Content Loss: 194.826752, TV Loss:56.5855 Diff Loss: 641.2052 \n",
      "\n"
     ]
    },
    {
     "name": "stderr",
     "output_type": "stream",
     "text": [
      "Lossy conversion from float64 to uint8. Range [0, 1]. Convert image to uint8 prior to saving to suppress this warning.\n"
     ]
    },
    {
     "name": "stdout",
     "output_type": "stream",
     "text": [
      "run [450]:\n",
      "Style Loss : 65.902977 Content Loss: 194.469681, TV Loss:55.9396 Diff Loss: 641.8511 \n",
      "\n"
     ]
    },
    {
     "name": "stderr",
     "output_type": "stream",
     "text": [
      "Lossy conversion from float64 to uint8. Range [0, 1]. Convert image to uint8 prior to saving to suppress this warning.\n"
     ]
    },
    {
     "name": "stdout",
     "output_type": "stream",
     "text": [
      "run [500]:\n",
      "Style Loss : 64.411133 Content Loss: 194.157227, TV Loss:55.3245 Diff Loss: 642.4662 \n",
      "\n"
     ]
    },
    {
     "name": "stderr",
     "output_type": "stream",
     "text": [
      "Lossy conversion from float64 to uint8. Range [0, 1]. Convert image to uint8 prior to saving to suppress this warning.\n",
      " 16%|█▌        | 4/25 [01:27<07:41, 21.96s/it]Lossy conversion from float64 to uint8. Range [0, 1]. Convert image to uint8 prior to saving to suppress this warning.\n",
      "Lossy conversion from float64 to uint8. Range [0, 1]. Convert image to uint8 prior to saving to suppress this warning.\n"
     ]
    },
    {
     "name": "stdout",
     "output_type": "stream",
     "text": [
      "Building the style transfer model..\n",
      "Optimizing..\n"
     ]
    },
    {
     "name": "stderr",
     "output_type": "stream",
     "text": [
      "Lossy conversion from float64 to uint8. Range [0, 1]. Convert image to uint8 prior to saving to suppress this warning.\n"
     ]
    },
    {
     "name": "stdout",
     "output_type": "stream",
     "text": [
      "run [50]:\n",
      "Style Loss : 176.197968 Content Loss: 198.449539, TV Loss:91.3191 Diff Loss: 685.0245 \n",
      "\n"
     ]
    },
    {
     "name": "stderr",
     "output_type": "stream",
     "text": [
      "Lossy conversion from float64 to uint8. Range [0, 1]. Convert image to uint8 prior to saving to suppress this warning.\n"
     ]
    },
    {
     "name": "stdout",
     "output_type": "stream",
     "text": [
      "run [100]:\n",
      "Style Loss : 117.891396 Content Loss: 191.296310, TV Loss:69.0780 Diff Loss: 707.2656 \n",
      "\n"
     ]
    },
    {
     "name": "stderr",
     "output_type": "stream",
     "text": [
      "Lossy conversion from float64 to uint8. Range [0, 1]. Convert image to uint8 prior to saving to suppress this warning.\n"
     ]
    },
    {
     "name": "stdout",
     "output_type": "stream",
     "text": [
      "run [150]:\n",
      "Style Loss : 88.566605 Content Loss: 188.718903, TV Loss:63.6191 Diff Loss: 712.7244 \n",
      "\n"
     ]
    },
    {
     "name": "stderr",
     "output_type": "stream",
     "text": [
      "Lossy conversion from float64 to uint8. Range [0, 1]. Convert image to uint8 prior to saving to suppress this warning.\n"
     ]
    },
    {
     "name": "stdout",
     "output_type": "stream",
     "text": [
      "run [200]:\n",
      "Style Loss : 73.112984 Content Loss: 187.484100, TV Loss:60.7852 Diff Loss: 715.5583 \n",
      "\n"
     ]
    },
    {
     "name": "stderr",
     "output_type": "stream",
     "text": [
      "Lossy conversion from float64 to uint8. Range [0, 1]. Convert image to uint8 prior to saving to suppress this warning.\n"
     ]
    },
    {
     "name": "stdout",
     "output_type": "stream",
     "text": [
      "run [250]:\n",
      "Style Loss : 65.389656 Content Loss: 186.573669, TV Loss:58.9887 Diff Loss: 717.3548 \n",
      "\n"
     ]
    },
    {
     "name": "stderr",
     "output_type": "stream",
     "text": [
      "Lossy conversion from float64 to uint8. Range [0, 1]. Convert image to uint8 prior to saving to suppress this warning.\n"
     ]
    },
    {
     "name": "stdout",
     "output_type": "stream",
     "text": [
      "run [300]:\n",
      "Style Loss : 60.878761 Content Loss: 185.920731, TV Loss:57.6475 Diff Loss: 718.6961 \n",
      "\n"
     ]
    },
    {
     "name": "stderr",
     "output_type": "stream",
     "text": [
      "Lossy conversion from float64 to uint8. Range [0, 1]. Convert image to uint8 prior to saving to suppress this warning.\n"
     ]
    },
    {
     "name": "stdout",
     "output_type": "stream",
     "text": [
      "run [350]:\n",
      "Style Loss : 58.051620 Content Loss: 185.367035, TV Loss:56.5652 Diff Loss: 719.7784 \n",
      "\n"
     ]
    },
    {
     "name": "stderr",
     "output_type": "stream",
     "text": [
      "Lossy conversion from float64 to uint8. Range [0, 1]. Convert image to uint8 prior to saving to suppress this warning.\n"
     ]
    },
    {
     "name": "stdout",
     "output_type": "stream",
     "text": [
      "run [400]:\n",
      "Style Loss : 56.157509 Content Loss: 184.854126, TV Loss:55.8031 Diff Loss: 720.5405 \n",
      "\n"
     ]
    },
    {
     "name": "stderr",
     "output_type": "stream",
     "text": [
      "Lossy conversion from float64 to uint8. Range [0, 1]. Convert image to uint8 prior to saving to suppress this warning.\n"
     ]
    },
    {
     "name": "stdout",
     "output_type": "stream",
     "text": [
      "run [450]:\n",
      "Style Loss : 54.708160 Content Loss: 184.430145, TV Loss:55.1417 Diff Loss: 721.2019 \n",
      "\n"
     ]
    },
    {
     "name": "stderr",
     "output_type": "stream",
     "text": [
      "Lossy conversion from float64 to uint8. Range [0, 1]. Convert image to uint8 prior to saving to suppress this warning.\n"
     ]
    },
    {
     "name": "stdout",
     "output_type": "stream",
     "text": [
      "run [500]:\n",
      "Style Loss : 53.588779 Content Loss: 184.098328, TV Loss:54.5981 Diff Loss: 721.7455 \n",
      "\n"
     ]
    },
    {
     "name": "stderr",
     "output_type": "stream",
     "text": [
      "Lossy conversion from float64 to uint8. Range [0, 1]. Convert image to uint8 prior to saving to suppress this warning.\n",
      " 20%|██        | 5/25 [01:51<07:32, 22.63s/it]Lossy conversion from float64 to uint8. Range [0, 1]. Convert image to uint8 prior to saving to suppress this warning.\n",
      "Lossy conversion from float64 to uint8. Range [0, 1]. Convert image to uint8 prior to saving to suppress this warning.\n"
     ]
    },
    {
     "name": "stdout",
     "output_type": "stream",
     "text": [
      "Building the style transfer model..\n",
      "Optimizing..\n"
     ]
    },
    {
     "name": "stderr",
     "output_type": "stream",
     "text": [
      "Lossy conversion from float64 to uint8. Range [0, 1]. Convert image to uint8 prior to saving to suppress this warning.\n"
     ]
    },
    {
     "name": "stdout",
     "output_type": "stream",
     "text": [
      "run [50]:\n",
      "Style Loss : 162.985123 Content Loss: 198.141357, TV Loss:91.8355 Diff Loss: 675.2728 \n",
      "\n"
     ]
    },
    {
     "name": "stderr",
     "output_type": "stream",
     "text": [
      "Lossy conversion from float64 to uint8. Range [0, 1]. Convert image to uint8 prior to saving to suppress this warning.\n"
     ]
    },
    {
     "name": "stdout",
     "output_type": "stream",
     "text": [
      "run [100]:\n",
      "Style Loss : 110.621201 Content Loss: 190.235977, TV Loss:68.6999 Diff Loss: 698.4085 \n",
      "\n"
     ]
    },
    {
     "name": "stderr",
     "output_type": "stream",
     "text": [
      "Lossy conversion from float64 to uint8. Range [0, 1]. Convert image to uint8 prior to saving to suppress this warning.\n"
     ]
    },
    {
     "name": "stdout",
     "output_type": "stream",
     "text": [
      "run [150]:\n",
      "Style Loss : 83.967415 Content Loss: 187.649689, TV Loss:63.0500 Diff Loss: 704.0583 \n",
      "\n"
     ]
    },
    {
     "name": "stderr",
     "output_type": "stream",
     "text": [
      "Lossy conversion from float64 to uint8. Range [0, 1]. Convert image to uint8 prior to saving to suppress this warning.\n"
     ]
    },
    {
     "name": "stdout",
     "output_type": "stream",
     "text": [
      "run [200]:\n",
      "Style Loss : 69.595627 Content Loss: 186.073730, TV Loss:60.1062 Diff Loss: 707.0021 \n",
      "\n"
     ]
    },
    {
     "name": "stderr",
     "output_type": "stream",
     "text": [
      "Lossy conversion from float64 to uint8. Range [0, 1]. Convert image to uint8 prior to saving to suppress this warning.\n"
     ]
    },
    {
     "name": "stdout",
     "output_type": "stream",
     "text": [
      "run [250]:\n",
      "Style Loss : 62.349129 Content Loss: 185.093872, TV Loss:58.2875 Diff Loss: 708.8208 \n",
      "\n"
     ]
    },
    {
     "name": "stderr",
     "output_type": "stream",
     "text": [
      "Lossy conversion from float64 to uint8. Range [0, 1]. Convert image to uint8 prior to saving to suppress this warning.\n"
     ]
    },
    {
     "name": "stdout",
     "output_type": "stream",
     "text": [
      "run [300]:\n",
      "Style Loss : 58.319664 Content Loss: 184.221130, TV Loss:57.0609 Diff Loss: 710.0474 \n",
      "\n"
     ]
    },
    {
     "name": "stderr",
     "output_type": "stream",
     "text": [
      "Lossy conversion from float64 to uint8. Range [0, 1]. Convert image to uint8 prior to saving to suppress this warning.\n"
     ]
    },
    {
     "name": "stdout",
     "output_type": "stream",
     "text": [
      "run [350]:\n",
      "Style Loss : 55.720230 Content Loss: 183.561539, TV Loss:56.0896 Diff Loss: 711.0187 \n",
      "\n"
     ]
    },
    {
     "name": "stderr",
     "output_type": "stream",
     "text": [
      "Lossy conversion from float64 to uint8. Range [0, 1]. Convert image to uint8 prior to saving to suppress this warning.\n"
     ]
    },
    {
     "name": "stdout",
     "output_type": "stream",
     "text": [
      "run [400]:\n",
      "Style Loss : 53.761997 Content Loss: 183.091278, TV Loss:55.3413 Diff Loss: 711.7670 \n",
      "\n"
     ]
    },
    {
     "name": "stderr",
     "output_type": "stream",
     "text": [
      "Lossy conversion from float64 to uint8. Range [0, 1]. Convert image to uint8 prior to saving to suppress this warning.\n"
     ]
    },
    {
     "name": "stdout",
     "output_type": "stream",
     "text": [
      "run [450]:\n",
      "Style Loss : 52.376316 Content Loss: 182.644974, TV Loss:54.6816 Diff Loss: 712.4267 \n",
      "\n"
     ]
    },
    {
     "name": "stderr",
     "output_type": "stream",
     "text": [
      "Lossy conversion from float64 to uint8. Range [0, 1]. Convert image to uint8 prior to saving to suppress this warning.\n"
     ]
    },
    {
     "name": "stdout",
     "output_type": "stream",
     "text": [
      "run [500]:\n",
      "Style Loss : 51.311695 Content Loss: 182.278107, TV Loss:54.1066 Diff Loss: 713.0017 \n",
      "\n"
     ]
    },
    {
     "name": "stderr",
     "output_type": "stream",
     "text": [
      "Lossy conversion from float64 to uint8. Range [0, 1]. Convert image to uint8 prior to saving to suppress this warning.\n",
      " 24%|██▍       | 6/25 [02:25<08:14, 26.04s/it]Lossy conversion from float64 to uint8. Range [0, 1]. Convert image to uint8 prior to saving to suppress this warning.\n",
      "Lossy conversion from float64 to uint8. Range [0, 1]. Convert image to uint8 prior to saving to suppress this warning.\n"
     ]
    },
    {
     "name": "stdout",
     "output_type": "stream",
     "text": [
      "Building the style transfer model..\n",
      "Optimizing..\n"
     ]
    },
    {
     "name": "stderr",
     "output_type": "stream",
     "text": [
      "Lossy conversion from float64 to uint8. Range [0, 1]. Convert image to uint8 prior to saving to suppress this warning.\n"
     ]
    },
    {
     "name": "stdout",
     "output_type": "stream",
     "text": [
      "run [50]:\n",
      "Style Loss : 159.839691 Content Loss: 197.503998, TV Loss:91.2781 Diff Loss: 685.5831 \n",
      "\n"
     ]
    },
    {
     "name": "stderr",
     "output_type": "stream",
     "text": [
      "Lossy conversion from float64 to uint8. Range [0, 1]. Convert image to uint8 prior to saving to suppress this warning.\n"
     ]
    },
    {
     "name": "stdout",
     "output_type": "stream",
     "text": [
      "run [100]:\n",
      "Style Loss : 107.337631 Content Loss: 190.302887, TV Loss:69.1101 Diff Loss: 707.7512 \n",
      "\n"
     ]
    },
    {
     "name": "stderr",
     "output_type": "stream",
     "text": [
      "Lossy conversion from float64 to uint8. Range [0, 1]. Convert image to uint8 prior to saving to suppress this warning.\n"
     ]
    },
    {
     "name": "stdout",
     "output_type": "stream",
     "text": [
      "run [150]:\n",
      "Style Loss : 81.533569 Content Loss: 187.734436, TV Loss:63.5120 Diff Loss: 713.3492 \n",
      "\n"
     ]
    },
    {
     "name": "stderr",
     "output_type": "stream",
     "text": [
      "Lossy conversion from float64 to uint8. Range [0, 1]. Convert image to uint8 prior to saving to suppress this warning.\n"
     ]
    },
    {
     "name": "stdout",
     "output_type": "stream",
     "text": [
      "run [200]:\n",
      "Style Loss : 68.042076 Content Loss: 186.284058, TV Loss:60.7980 Diff Loss: 716.0633 \n",
      "\n"
     ]
    },
    {
     "name": "stderr",
     "output_type": "stream",
     "text": [
      "Lossy conversion from float64 to uint8. Range [0, 1]. Convert image to uint8 prior to saving to suppress this warning.\n"
     ]
    },
    {
     "name": "stdout",
     "output_type": "stream",
     "text": [
      "run [250]:\n",
      "Style Loss : 61.269894 Content Loss: 185.427002, TV Loss:58.9367 Diff Loss: 717.9246 \n",
      "\n"
     ]
    },
    {
     "name": "stderr",
     "output_type": "stream",
     "text": [
      "Lossy conversion from float64 to uint8. Range [0, 1]. Convert image to uint8 prior to saving to suppress this warning.\n"
     ]
    },
    {
     "name": "stdout",
     "output_type": "stream",
     "text": [
      "run [300]:\n",
      "Style Loss : 57.236362 Content Loss: 184.724823, TV Loss:57.7742 Diff Loss: 719.0870 \n",
      "\n"
     ]
    },
    {
     "name": "stderr",
     "output_type": "stream",
     "text": [
      "Lossy conversion from float64 to uint8. Range [0, 1]. Convert image to uint8 prior to saving to suppress this warning.\n"
     ]
    },
    {
     "name": "stdout",
     "output_type": "stream",
     "text": [
      "run [350]:\n",
      "Style Loss : 54.761642 Content Loss: 184.032227, TV Loss:56.8246 Diff Loss: 720.0367 \n",
      "\n"
     ]
    },
    {
     "name": "stderr",
     "output_type": "stream",
     "text": [
      "Lossy conversion from float64 to uint8. Range [0, 1]. Convert image to uint8 prior to saving to suppress this warning.\n"
     ]
    },
    {
     "name": "stdout",
     "output_type": "stream",
     "text": [
      "run [400]:\n",
      "Style Loss : 52.995770 Content Loss: 183.463669, TV Loss:56.1085 Diff Loss: 720.7527 \n",
      "\n"
     ]
    },
    {
     "name": "stderr",
     "output_type": "stream",
     "text": [
      "Lossy conversion from float64 to uint8. Range [0, 1]. Convert image to uint8 prior to saving to suppress this warning.\n"
     ]
    },
    {
     "name": "stdout",
     "output_type": "stream",
     "text": [
      "run [450]:\n",
      "Style Loss : 51.573292 Content Loss: 183.011505, TV Loss:55.5037 Diff Loss: 721.3576 \n",
      "\n"
     ]
    },
    {
     "name": "stderr",
     "output_type": "stream",
     "text": [
      "Lossy conversion from float64 to uint8. Range [0, 1]. Convert image to uint8 prior to saving to suppress this warning.\n"
     ]
    },
    {
     "name": "stdout",
     "output_type": "stream",
     "text": [
      "run [500]:\n",
      "Style Loss : 50.483978 Content Loss: 182.642792, TV Loss:54.9523 Diff Loss: 721.9089 \n",
      "\n"
     ]
    },
    {
     "name": "stderr",
     "output_type": "stream",
     "text": [
      "Lossy conversion from float64 to uint8. Range [0, 1]. Convert image to uint8 prior to saving to suppress this warning.\n",
      " 28%|██▊       | 7/25 [03:02<08:49, 29.40s/it]Lossy conversion from float64 to uint8. Range [0, 1]. Convert image to uint8 prior to saving to suppress this warning.\n",
      "Lossy conversion from float64 to uint8. Range [0, 1]. Convert image to uint8 prior to saving to suppress this warning.\n"
     ]
    },
    {
     "name": "stdout",
     "output_type": "stream",
     "text": [
      "Building the style transfer model..\n",
      "Optimizing..\n"
     ]
    },
    {
     "name": "stderr",
     "output_type": "stream",
     "text": [
      "Lossy conversion from float64 to uint8. Range [0, 1]. Convert image to uint8 prior to saving to suppress this warning.\n"
     ]
    },
    {
     "name": "stdout",
     "output_type": "stream",
     "text": [
      "run [50]:\n",
      "Style Loss : 151.459366 Content Loss: 187.272949, TV Loss:90.0285 Diff Loss: 740.1621 \n",
      "\n"
     ]
    },
    {
     "name": "stderr",
     "output_type": "stream",
     "text": [
      "Lossy conversion from float64 to uint8. Range [0, 1]. Convert image to uint8 prior to saving to suppress this warning.\n"
     ]
    },
    {
     "name": "stdout",
     "output_type": "stream",
     "text": [
      "run [100]:\n",
      "Style Loss : 102.501190 Content Loss: 180.174484, TV Loss:68.2389 Diff Loss: 761.9518 \n",
      "\n"
     ]
    },
    {
     "name": "stderr",
     "output_type": "stream",
     "text": [
      "Lossy conversion from float64 to uint8. Range [0, 1]. Convert image to uint8 prior to saving to suppress this warning.\n"
     ]
    },
    {
     "name": "stdout",
     "output_type": "stream",
     "text": [
      "run [150]:\n",
      "Style Loss : 77.767456 Content Loss: 177.808304, TV Loss:62.8579 Diff Loss: 767.3327 \n",
      "\n"
     ]
    },
    {
     "name": "stderr",
     "output_type": "stream",
     "text": [
      "Lossy conversion from float64 to uint8. Range [0, 1]. Convert image to uint8 prior to saving to suppress this warning.\n"
     ]
    },
    {
     "name": "stdout",
     "output_type": "stream",
     "text": [
      "run [200]:\n",
      "Style Loss : 65.351402 Content Loss: 176.405869, TV Loss:60.2188 Diff Loss: 769.9718 \n",
      "\n"
     ]
    },
    {
     "name": "stderr",
     "output_type": "stream",
     "text": [
      "Lossy conversion from float64 to uint8. Range [0, 1]. Convert image to uint8 prior to saving to suppress this warning.\n"
     ]
    },
    {
     "name": "stdout",
     "output_type": "stream",
     "text": [
      "run [250]:\n",
      "Style Loss : 59.029236 Content Loss: 175.446548, TV Loss:58.4647 Diff Loss: 771.7260 \n",
      "\n"
     ]
    },
    {
     "name": "stderr",
     "output_type": "stream",
     "text": [
      "Lossy conversion from float64 to uint8. Range [0, 1]. Convert image to uint8 prior to saving to suppress this warning.\n"
     ]
    },
    {
     "name": "stdout",
     "output_type": "stream",
     "text": [
      "run [300]:\n",
      "Style Loss : 55.433800 Content Loss: 174.719208, TV Loss:57.2016 Diff Loss: 772.9890 \n",
      "\n"
     ]
    },
    {
     "name": "stderr",
     "output_type": "stream",
     "text": [
      "Lossy conversion from float64 to uint8. Range [0, 1]. Convert image to uint8 prior to saving to suppress this warning.\n"
     ]
    },
    {
     "name": "stdout",
     "output_type": "stream",
     "text": [
      "run [350]:\n",
      "Style Loss : 53.107002 Content Loss: 174.143921, TV Loss:56.3202 Diff Loss: 773.8704 \n",
      "\n"
     ]
    },
    {
     "name": "stderr",
     "output_type": "stream",
     "text": [
      "Lossy conversion from float64 to uint8. Range [0, 1]. Convert image to uint8 prior to saving to suppress this warning.\n"
     ]
    },
    {
     "name": "stdout",
     "output_type": "stream",
     "text": [
      "run [400]:\n",
      "Style Loss : 51.403618 Content Loss: 173.705780, TV Loss:55.5937 Diff Loss: 774.5969 \n",
      "\n"
     ]
    },
    {
     "name": "stderr",
     "output_type": "stream",
     "text": [
      "Lossy conversion from float64 to uint8. Range [0, 1]. Convert image to uint8 prior to saving to suppress this warning.\n"
     ]
    },
    {
     "name": "stdout",
     "output_type": "stream",
     "text": [
      "run [450]:\n",
      "Style Loss : 50.042530 Content Loss: 173.369293, TV Loss:54.9730 Diff Loss: 775.2176 \n",
      "\n"
     ]
    },
    {
     "name": "stderr",
     "output_type": "stream",
     "text": [
      "Lossy conversion from float64 to uint8. Range [0, 1]. Convert image to uint8 prior to saving to suppress this warning.\n"
     ]
    },
    {
     "name": "stdout",
     "output_type": "stream",
     "text": [
      "run [500]:\n",
      "Style Loss : 49.071480 Content Loss: 173.067535, TV Loss:54.4641 Diff Loss: 775.7264 \n",
      "\n"
     ]
    },
    {
     "name": "stderr",
     "output_type": "stream",
     "text": [
      "Lossy conversion from float64 to uint8. Range [0, 1]. Convert image to uint8 prior to saving to suppress this warning.\n",
      " 32%|███▏      | 8/25 [03:47<09:35, 33.84s/it]Lossy conversion from float64 to uint8. Range [0, 1]. Convert image to uint8 prior to saving to suppress this warning.\n",
      "Lossy conversion from float64 to uint8. Range [0, 1]. Convert image to uint8 prior to saving to suppress this warning.\n"
     ]
    },
    {
     "name": "stdout",
     "output_type": "stream",
     "text": [
      "Building the style transfer model..\n",
      "Optimizing..\n"
     ]
    },
    {
     "name": "stderr",
     "output_type": "stream",
     "text": [
      "Lossy conversion from float64 to uint8. Range [0, 1]. Convert image to uint8 prior to saving to suppress this warning.\n"
     ]
    },
    {
     "name": "stdout",
     "output_type": "stream",
     "text": [
      "run [50]:\n",
      "Style Loss : 143.030594 Content Loss: 183.433228, TV Loss:87.5911 Diff Loss: 734.4348 \n",
      "\n"
     ]
    },
    {
     "name": "stderr",
     "output_type": "stream",
     "text": [
      "Lossy conversion from float64 to uint8. Range [0, 1]. Convert image to uint8 prior to saving to suppress this warning.\n"
     ]
    },
    {
     "name": "stdout",
     "output_type": "stream",
     "text": [
      "run [100]:\n",
      "Style Loss : 98.700912 Content Loss: 176.690826, TV Loss:67.7079 Diff Loss: 754.3180 \n",
      "\n"
     ]
    },
    {
     "name": "stderr",
     "output_type": "stream",
     "text": [
      "Lossy conversion from float64 to uint8. Range [0, 1]. Convert image to uint8 prior to saving to suppress this warning.\n"
     ]
    },
    {
     "name": "stdout",
     "output_type": "stream",
     "text": [
      "run [150]:\n",
      "Style Loss : 74.052635 Content Loss: 174.429596, TV Loss:62.4145 Diff Loss: 759.6114 \n",
      "\n"
     ]
    },
    {
     "name": "stderr",
     "output_type": "stream",
     "text": [
      "Lossy conversion from float64 to uint8. Range [0, 1]. Convert image to uint8 prior to saving to suppress this warning.\n"
     ]
    },
    {
     "name": "stdout",
     "output_type": "stream",
     "text": [
      "run [200]:\n",
      "Style Loss : 62.545464 Content Loss: 173.216583, TV Loss:59.6408 Diff Loss: 762.3850 \n",
      "\n"
     ]
    },
    {
     "name": "stderr",
     "output_type": "stream",
     "text": [
      "Lossy conversion from float64 to uint8. Range [0, 1]. Convert image to uint8 prior to saving to suppress this warning.\n"
     ]
    },
    {
     "name": "stdout",
     "output_type": "stream",
     "text": [
      "run [250]:\n",
      "Style Loss : 56.679230 Content Loss: 172.490326, TV Loss:57.9538 Diff Loss: 764.0721 \n",
      "\n"
     ]
    },
    {
     "name": "stderr",
     "output_type": "stream",
     "text": [
      "Lossy conversion from float64 to uint8. Range [0, 1]. Convert image to uint8 prior to saving to suppress this warning.\n"
     ]
    },
    {
     "name": "stdout",
     "output_type": "stream",
     "text": [
      "run [300]:\n",
      "Style Loss : 53.339165 Content Loss: 171.785522, TV Loss:56.7385 Diff Loss: 765.2874 \n",
      "\n"
     ]
    },
    {
     "name": "stderr",
     "output_type": "stream",
     "text": [
      "Lossy conversion from float64 to uint8. Range [0, 1]. Convert image to uint8 prior to saving to suppress this warning.\n"
     ]
    },
    {
     "name": "stdout",
     "output_type": "stream",
     "text": [
      "run [350]:\n",
      "Style Loss : 51.134083 Content Loss: 171.251602, TV Loss:55.8263 Diff Loss: 766.1996 \n",
      "\n"
     ]
    },
    {
     "name": "stderr",
     "output_type": "stream",
     "text": [
      "Lossy conversion from float64 to uint8. Range [0, 1]. Convert image to uint8 prior to saving to suppress this warning.\n"
     ]
    },
    {
     "name": "stdout",
     "output_type": "stream",
     "text": [
      "run [400]:\n",
      "Style Loss : 49.730293 Content Loss: 170.675629, TV Loss:55.0640 Diff Loss: 766.9619 \n",
      "\n"
     ]
    },
    {
     "name": "stderr",
     "output_type": "stream",
     "text": [
      "Lossy conversion from float64 to uint8. Range [0, 1]. Convert image to uint8 prior to saving to suppress this warning.\n"
     ]
    },
    {
     "name": "stdout",
     "output_type": "stream",
     "text": [
      "run [450]:\n",
      "Style Loss : 48.560104 Content Loss: 170.265503, TV Loss:54.4569 Diff Loss: 767.5690 \n",
      "\n"
     ]
    },
    {
     "name": "stderr",
     "output_type": "stream",
     "text": [
      "Lossy conversion from float64 to uint8. Range [0, 1]. Convert image to uint8 prior to saving to suppress this warning.\n"
     ]
    },
    {
     "name": "stdout",
     "output_type": "stream",
     "text": [
      "run [500]:\n",
      "Style Loss : 47.553360 Content Loss: 169.995712, TV Loss:53.8923 Diff Loss: 768.1335 \n",
      "\n"
     ]
    },
    {
     "name": "stderr",
     "output_type": "stream",
     "text": [
      "Lossy conversion from float64 to uint8. Range [0, 1]. Convert image to uint8 prior to saving to suppress this warning.\n",
      " 36%|███▌      | 9/25 [04:34<10:07, 37.99s/it]Lossy conversion from float64 to uint8. Range [0, 1]. Convert image to uint8 prior to saving to suppress this warning.\n",
      "Lossy conversion from float64 to uint8. Range [0, 1]. Convert image to uint8 prior to saving to suppress this warning.\n"
     ]
    },
    {
     "name": "stdout",
     "output_type": "stream",
     "text": [
      "Building the style transfer model..\n",
      "Optimizing..\n"
     ]
    },
    {
     "name": "stderr",
     "output_type": "stream",
     "text": [
      "Lossy conversion from float64 to uint8. Range [0, 1]. Convert image to uint8 prior to saving to suppress this warning.\n"
     ]
    },
    {
     "name": "stdout",
     "output_type": "stream",
     "text": [
      "run [50]:\n",
      "Style Loss : 140.000046 Content Loss: 179.332581, TV Loss:90.4764 Diff Loss: 718.5236 \n",
      "\n"
     ]
    },
    {
     "name": "stderr",
     "output_type": "stream",
     "text": [
      "Lossy conversion from float64 to uint8. Range [0, 1]. Convert image to uint8 prior to saving to suppress this warning.\n"
     ]
    },
    {
     "name": "stdout",
     "output_type": "stream",
     "text": [
      "run [100]:\n",
      "Style Loss : 96.784271 Content Loss: 171.664154, TV Loss:68.0879 Diff Loss: 740.9122 \n",
      "\n"
     ]
    },
    {
     "name": "stderr",
     "output_type": "stream",
     "text": [
      "Lossy conversion from float64 to uint8. Range [0, 1]. Convert image to uint8 prior to saving to suppress this warning.\n"
     ]
    },
    {
     "name": "stdout",
     "output_type": "stream",
     "text": [
      "run [150]:\n",
      "Style Loss : 73.215332 Content Loss: 169.505936, TV Loss:62.5357 Diff Loss: 746.4644 \n",
      "\n"
     ]
    },
    {
     "name": "stderr",
     "output_type": "stream",
     "text": [
      "Lossy conversion from float64 to uint8. Range [0, 1]. Convert image to uint8 prior to saving to suppress this warning.\n"
     ]
    },
    {
     "name": "stdout",
     "output_type": "stream",
     "text": [
      "run [200]:\n",
      "Style Loss : 62.186466 Content Loss: 168.170319, TV Loss:59.7522 Diff Loss: 749.2478 \n",
      "\n"
     ]
    },
    {
     "name": "stderr",
     "output_type": "stream",
     "text": [
      "Lossy conversion from float64 to uint8. Range [0, 1]. Convert image to uint8 prior to saving to suppress this warning.\n"
     ]
    },
    {
     "name": "stdout",
     "output_type": "stream",
     "text": [
      "run [250]:\n",
      "Style Loss : 56.563812 Content Loss: 167.267914, TV Loss:58.1351 Diff Loss: 750.8649 \n",
      "\n"
     ]
    },
    {
     "name": "stderr",
     "output_type": "stream",
     "text": [
      "Lossy conversion from float64 to uint8. Range [0, 1]. Convert image to uint8 prior to saving to suppress this warning.\n"
     ]
    },
    {
     "name": "stdout",
     "output_type": "stream",
     "text": [
      "run [300]:\n",
      "Style Loss : 53.152538 Content Loss: 166.645721, TV Loss:57.0318 Diff Loss: 751.9682 \n",
      "\n"
     ]
    },
    {
     "name": "stderr",
     "output_type": "stream",
     "text": [
      "Lossy conversion from float64 to uint8. Range [0, 1]. Convert image to uint8 prior to saving to suppress this warning.\n"
     ]
    },
    {
     "name": "stdout",
     "output_type": "stream",
     "text": [
      "run [350]:\n",
      "Style Loss : 50.891735 Content Loss: 166.033966, TV Loss:56.1877 Diff Loss: 752.8123 \n",
      "\n"
     ]
    },
    {
     "name": "stderr",
     "output_type": "stream",
     "text": [
      "Lossy conversion from float64 to uint8. Range [0, 1]. Convert image to uint8 prior to saving to suppress this warning.\n"
     ]
    },
    {
     "name": "stdout",
     "output_type": "stream",
     "text": [
      "run [400]:\n",
      "Style Loss : 49.256310 Content Loss: 165.555969, TV Loss:55.4639 Diff Loss: 753.5361 \n",
      "\n"
     ]
    },
    {
     "name": "stderr",
     "output_type": "stream",
     "text": [
      "Lossy conversion from float64 to uint8. Range [0, 1]. Convert image to uint8 prior to saving to suppress this warning.\n"
     ]
    },
    {
     "name": "stdout",
     "output_type": "stream",
     "text": [
      "run [450]:\n",
      "Style Loss : 47.999527 Content Loss: 165.247253, TV Loss:54.8163 Diff Loss: 754.1837 \n",
      "\n"
     ]
    },
    {
     "name": "stderr",
     "output_type": "stream",
     "text": [
      "Lossy conversion from float64 to uint8. Range [0, 1]. Convert image to uint8 prior to saving to suppress this warning.\n"
     ]
    },
    {
     "name": "stdout",
     "output_type": "stream",
     "text": [
      "run [500]:\n",
      "Style Loss : 47.033516 Content Loss: 164.944687, TV Loss:54.2972 Diff Loss: 754.7028 \n",
      "\n"
     ]
    },
    {
     "name": "stderr",
     "output_type": "stream",
     "text": [
      "Lossy conversion from float64 to uint8. Range [0, 1]. Convert image to uint8 prior to saving to suppress this warning.\n",
      " 40%|████      | 10/25 [05:23<10:19, 41.29s/it]Lossy conversion from float64 to uint8. Range [0, 1]. Convert image to uint8 prior to saving to suppress this warning.\n",
      "Lossy conversion from float64 to uint8. Range [0, 1]. Convert image to uint8 prior to saving to suppress this warning.\n"
     ]
    },
    {
     "name": "stdout",
     "output_type": "stream",
     "text": [
      "Building the style transfer model..\n",
      "Optimizing..\n"
     ]
    },
    {
     "name": "stderr",
     "output_type": "stream",
     "text": [
      "Lossy conversion from float64 to uint8. Range [0, 1]. Convert image to uint8 prior to saving to suppress this warning.\n"
     ]
    },
    {
     "name": "stdout",
     "output_type": "stream",
     "text": [
      "run [50]:\n",
      "Style Loss : 140.302139 Content Loss: 177.293243, TV Loss:90.1826 Diff Loss: 733.8386 \n",
      "\n"
     ]
    },
    {
     "name": "stderr",
     "output_type": "stream",
     "text": [
      "Lossy conversion from float64 to uint8. Range [0, 1]. Convert image to uint8 prior to saving to suppress this warning.\n"
     ]
    },
    {
     "name": "stdout",
     "output_type": "stream",
     "text": [
      "run [100]:\n",
      "Style Loss : 96.961060 Content Loss: 169.304565, TV Loss:68.3135 Diff Loss: 755.7077 \n",
      "\n"
     ]
    },
    {
     "name": "stderr",
     "output_type": "stream",
     "text": [
      "Lossy conversion from float64 to uint8. Range [0, 1]. Convert image to uint8 prior to saving to suppress this warning.\n"
     ]
    },
    {
     "name": "stdout",
     "output_type": "stream",
     "text": [
      "run [150]:\n",
      "Style Loss : 73.975960 Content Loss: 166.871185, TV Loss:62.8372 Diff Loss: 761.1840 \n",
      "\n"
     ]
    },
    {
     "name": "stderr",
     "output_type": "stream",
     "text": [
      "Lossy conversion from float64 to uint8. Range [0, 1]. Convert image to uint8 prior to saving to suppress this warning.\n"
     ]
    },
    {
     "name": "stdout",
     "output_type": "stream",
     "text": [
      "run [200]:\n",
      "Style Loss : 62.331448 Content Loss: 165.821152, TV Loss:60.0782 Diff Loss: 763.9430 \n",
      "\n"
     ]
    },
    {
     "name": "stderr",
     "output_type": "stream",
     "text": [
      "Lossy conversion from float64 to uint8. Range [0, 1]. Convert image to uint8 prior to saving to suppress this warning.\n"
     ]
    },
    {
     "name": "stdout",
     "output_type": "stream",
     "text": [
      "run [250]:\n",
      "Style Loss : 56.559452 Content Loss: 165.057251, TV Loss:58.3959 Diff Loss: 765.6253 \n",
      "\n"
     ]
    },
    {
     "name": "stderr",
     "output_type": "stream",
     "text": [
      "Lossy conversion from float64 to uint8. Range [0, 1]. Convert image to uint8 prior to saving to suppress this warning.\n"
     ]
    },
    {
     "name": "stdout",
     "output_type": "stream",
     "text": [
      "run [300]:\n",
      "Style Loss : 53.083473 Content Loss: 164.391953, TV Loss:57.2454 Diff Loss: 766.7758 \n",
      "\n"
     ]
    },
    {
     "name": "stderr",
     "output_type": "stream",
     "text": [
      "Lossy conversion from float64 to uint8. Range [0, 1]. Convert image to uint8 prior to saving to suppress this warning.\n"
     ]
    },
    {
     "name": "stdout",
     "output_type": "stream",
     "text": [
      "run [350]:\n",
      "Style Loss : 50.790539 Content Loss: 163.871399, TV Loss:56.3207 Diff Loss: 767.7005 \n",
      "\n"
     ]
    },
    {
     "name": "stderr",
     "output_type": "stream",
     "text": [
      "Lossy conversion from float64 to uint8. Range [0, 1]. Convert image to uint8 prior to saving to suppress this warning.\n"
     ]
    },
    {
     "name": "stdout",
     "output_type": "stream",
     "text": [
      "run [400]:\n",
      "Style Loss : 49.258217 Content Loss: 163.344818, TV Loss:55.4924 Diff Loss: 768.5288 \n",
      "\n"
     ]
    },
    {
     "name": "stderr",
     "output_type": "stream",
     "text": [
      "Lossy conversion from float64 to uint8. Range [0, 1]. Convert image to uint8 prior to saving to suppress this warning.\n"
     ]
    },
    {
     "name": "stdout",
     "output_type": "stream",
     "text": [
      "run [450]:\n",
      "Style Loss : 48.095192 Content Loss: 162.860626, TV Loss:54.8652 Diff Loss: 769.1560 \n",
      "\n"
     ]
    },
    {
     "name": "stderr",
     "output_type": "stream",
     "text": [
      "Lossy conversion from float64 to uint8. Range [0, 1]. Convert image to uint8 prior to saving to suppress this warning.\n"
     ]
    },
    {
     "name": "stdout",
     "output_type": "stream",
     "text": [
      "run [500]:\n",
      "Style Loss : 47.152996 Content Loss: 162.477905, TV Loss:54.3351 Diff Loss: 769.6860 \n",
      "\n"
     ]
    },
    {
     "name": "stderr",
     "output_type": "stream",
     "text": [
      "Lossy conversion from float64 to uint8. Range [0, 1]. Convert image to uint8 prior to saving to suppress this warning.\n",
      " 44%|████▍     | 11/25 [06:17<10:29, 44.97s/it]Lossy conversion from float64 to uint8. Range [0, 1]. Convert image to uint8 prior to saving to suppress this warning.\n",
      "Lossy conversion from float64 to uint8. Range [0, 1]. Convert image to uint8 prior to saving to suppress this warning.\n"
     ]
    },
    {
     "name": "stdout",
     "output_type": "stream",
     "text": [
      "Building the style transfer model..\n",
      "Optimizing..\n"
     ]
    },
    {
     "name": "stderr",
     "output_type": "stream",
     "text": [
      "Lossy conversion from float64 to uint8. Range [0, 1]. Convert image to uint8 prior to saving to suppress this warning.\n"
     ]
    },
    {
     "name": "stdout",
     "output_type": "stream",
     "text": [
      "run [50]:\n",
      "Style Loss : 145.677368 Content Loss: 176.005585, TV Loss:88.9241 Diff Loss: 713.2642 \n",
      "\n"
     ]
    },
    {
     "name": "stderr",
     "output_type": "stream",
     "text": [
      "Lossy conversion from float64 to uint8. Range [0, 1]. Convert image to uint8 prior to saving to suppress this warning.\n"
     ]
    },
    {
     "name": "stdout",
     "output_type": "stream",
     "text": [
      "run [100]:\n",
      "Style Loss : 100.001488 Content Loss: 169.439972, TV Loss:68.5951 Diff Loss: 733.5933 \n",
      "\n"
     ]
    },
    {
     "name": "stderr",
     "output_type": "stream",
     "text": [
      "Lossy conversion from float64 to uint8. Range [0, 1]. Convert image to uint8 prior to saving to suppress this warning.\n"
     ]
    },
    {
     "name": "stdout",
     "output_type": "stream",
     "text": [
      "run [150]:\n",
      "Style Loss : 75.442520 Content Loss: 167.083008, TV Loss:63.2749 Diff Loss: 738.9133 \n",
      "\n"
     ]
    },
    {
     "name": "stderr",
     "output_type": "stream",
     "text": [
      "Lossy conversion from float64 to uint8. Range [0, 1]. Convert image to uint8 prior to saving to suppress this warning.\n"
     ]
    },
    {
     "name": "stdout",
     "output_type": "stream",
     "text": [
      "run [200]:\n",
      "Style Loss : 63.590900 Content Loss: 165.959198, TV Loss:60.5127 Diff Loss: 741.6755 \n",
      "\n"
     ]
    },
    {
     "name": "stderr",
     "output_type": "stream",
     "text": [
      "Lossy conversion from float64 to uint8. Range [0, 1]. Convert image to uint8 prior to saving to suppress this warning.\n"
     ]
    },
    {
     "name": "stdout",
     "output_type": "stream",
     "text": [
      "run [250]:\n",
      "Style Loss : 57.609756 Content Loss: 165.020828, TV Loss:58.7525 Diff Loss: 743.4358 \n",
      "\n"
     ]
    },
    {
     "name": "stderr",
     "output_type": "stream",
     "text": [
      "Lossy conversion from float64 to uint8. Range [0, 1]. Convert image to uint8 prior to saving to suppress this warning.\n"
     ]
    },
    {
     "name": "stdout",
     "output_type": "stream",
     "text": [
      "run [300]:\n",
      "Style Loss : 54.096638 Content Loss: 164.312515, TV Loss:57.5282 Diff Loss: 744.6601 \n",
      "\n"
     ]
    },
    {
     "name": "stderr",
     "output_type": "stream",
     "text": [
      "Lossy conversion from float64 to uint8. Range [0, 1]. Convert image to uint8 prior to saving to suppress this warning.\n"
     ]
    },
    {
     "name": "stdout",
     "output_type": "stream",
     "text": [
      "run [350]:\n",
      "Style Loss : 51.699169 Content Loss: 163.746307, TV Loss:56.5659 Diff Loss: 745.6224 \n",
      "\n"
     ]
    },
    {
     "name": "stderr",
     "output_type": "stream",
     "text": [
      "Lossy conversion from float64 to uint8. Range [0, 1]. Convert image to uint8 prior to saving to suppress this warning.\n"
     ]
    },
    {
     "name": "stdout",
     "output_type": "stream",
     "text": [
      "run [400]:\n",
      "Style Loss : 50.000969 Content Loss: 163.279449, TV Loss:55.7855 Diff Loss: 746.4028 \n",
      "\n"
     ]
    },
    {
     "name": "stderr",
     "output_type": "stream",
     "text": [
      "Lossy conversion from float64 to uint8. Range [0, 1]. Convert image to uint8 prior to saving to suppress this warning.\n"
     ]
    },
    {
     "name": "stdout",
     "output_type": "stream",
     "text": [
      "run [450]:\n",
      "Style Loss : 48.708492 Content Loss: 162.903122, TV Loss:55.1038 Diff Loss: 747.0845 \n",
      "\n"
     ]
    },
    {
     "name": "stderr",
     "output_type": "stream",
     "text": [
      "Lossy conversion from float64 to uint8. Range [0, 1]. Convert image to uint8 prior to saving to suppress this warning.\n"
     ]
    },
    {
     "name": "stdout",
     "output_type": "stream",
     "text": [
      "run [500]:\n",
      "Style Loss : 47.731964 Content Loss: 162.538528, TV Loss:54.5037 Diff Loss: 747.6846 \n",
      "\n"
     ]
    },
    {
     "name": "stderr",
     "output_type": "stream",
     "text": [
      "Lossy conversion from float64 to uint8. Range [0, 1]. Convert image to uint8 prior to saving to suppress this warning.\n",
      " 48%|████▊     | 12/25 [07:08<10:10, 46.95s/it]Lossy conversion from float64 to uint8. Range [0, 1]. Convert image to uint8 prior to saving to suppress this warning.\n",
      "Lossy conversion from float64 to uint8. Range [0, 1]. Convert image to uint8 prior to saving to suppress this warning.\n"
     ]
    },
    {
     "name": "stdout",
     "output_type": "stream",
     "text": [
      "Building the style transfer model..\n",
      "Optimizing..\n"
     ]
    },
    {
     "name": "stderr",
     "output_type": "stream",
     "text": [
      "Lossy conversion from float64 to uint8. Range [0, 1]. Convert image to uint8 prior to saving to suppress this warning.\n"
     ]
    },
    {
     "name": "stdout",
     "output_type": "stream",
     "text": [
      "run [50]:\n",
      "Style Loss : 145.998077 Content Loss: 172.071091, TV Loss:89.2531 Diff Loss: 705.1611 \n",
      "\n"
     ]
    },
    {
     "name": "stderr",
     "output_type": "stream",
     "text": [
      "Lossy conversion from float64 to uint8. Range [0, 1]. Convert image to uint8 prior to saving to suppress this warning.\n"
     ]
    },
    {
     "name": "stdout",
     "output_type": "stream",
     "text": [
      "run [100]:\n",
      "Style Loss : 101.742691 Content Loss: 164.647812, TV Loss:68.5387 Diff Loss: 725.8755 \n",
      "\n"
     ]
    },
    {
     "name": "stderr",
     "output_type": "stream",
     "text": [
      "Lossy conversion from float64 to uint8. Range [0, 1]. Convert image to uint8 prior to saving to suppress this warning.\n"
     ]
    },
    {
     "name": "stdout",
     "output_type": "stream",
     "text": [
      "run [150]:\n",
      "Style Loss : 77.429420 Content Loss: 162.261353, TV Loss:63.2322 Diff Loss: 731.1819 \n",
      "\n"
     ]
    },
    {
     "name": "stderr",
     "output_type": "stream",
     "text": [
      "Lossy conversion from float64 to uint8. Range [0, 1]. Convert image to uint8 prior to saving to suppress this warning.\n"
     ]
    },
    {
     "name": "stdout",
     "output_type": "stream",
     "text": [
      "run [200]:\n",
      "Style Loss : 65.006371 Content Loss: 161.173630, TV Loss:60.3994 Diff Loss: 734.0148 \n",
      "\n"
     ]
    },
    {
     "name": "stderr",
     "output_type": "stream",
     "text": [
      "Lossy conversion from float64 to uint8. Range [0, 1]. Convert image to uint8 prior to saving to suppress this warning.\n"
     ]
    },
    {
     "name": "stdout",
     "output_type": "stream",
     "text": [
      "run [250]:\n",
      "Style Loss : 58.704010 Content Loss: 160.363693, TV Loss:58.8805 Diff Loss: 735.5337 \n",
      "\n"
     ]
    },
    {
     "name": "stderr",
     "output_type": "stream",
     "text": [
      "Lossy conversion from float64 to uint8. Range [0, 1]. Convert image to uint8 prior to saving to suppress this warning.\n"
     ]
    },
    {
     "name": "stdout",
     "output_type": "stream",
     "text": [
      "run [300]:\n",
      "Style Loss : 55.151676 Content Loss: 159.708069, TV Loss:57.7237 Diff Loss: 736.6905 \n",
      "\n"
     ]
    },
    {
     "name": "stderr",
     "output_type": "stream",
     "text": [
      "Lossy conversion from float64 to uint8. Range [0, 1]. Convert image to uint8 prior to saving to suppress this warning.\n"
     ]
    },
    {
     "name": "stdout",
     "output_type": "stream",
     "text": [
      "run [350]:\n",
      "Style Loss : 52.635986 Content Loss: 159.247177, TV Loss:56.8521 Diff Loss: 737.5620 \n",
      "\n"
     ]
    },
    {
     "name": "stderr",
     "output_type": "stream",
     "text": [
      "Lossy conversion from float64 to uint8. Range [0, 1]. Convert image to uint8 prior to saving to suppress this warning.\n"
     ]
    },
    {
     "name": "stdout",
     "output_type": "stream",
     "text": [
      "run [400]:\n",
      "Style Loss : 50.739758 Content Loss: 158.916290, TV Loss:56.1300 Diff Loss: 738.2841 \n",
      "\n"
     ]
    },
    {
     "name": "stderr",
     "output_type": "stream",
     "text": [
      "Lossy conversion from float64 to uint8. Range [0, 1]. Convert image to uint8 prior to saving to suppress this warning.\n"
     ]
    },
    {
     "name": "stdout",
     "output_type": "stream",
     "text": [
      "run [450]:\n",
      "Style Loss : 49.408150 Content Loss: 158.536530, TV Loss:55.5516 Diff Loss: 738.8626 \n",
      "\n"
     ]
    },
    {
     "name": "stderr",
     "output_type": "stream",
     "text": [
      "Lossy conversion from float64 to uint8. Range [0, 1]. Convert image to uint8 prior to saving to suppress this warning.\n"
     ]
    },
    {
     "name": "stdout",
     "output_type": "stream",
     "text": [
      "run [500]:\n",
      "Style Loss : 48.338032 Content Loss: 158.253616, TV Loss:55.0618 Diff Loss: 739.3524 \n",
      "\n"
     ]
    },
    {
     "name": "stderr",
     "output_type": "stream",
     "text": [
      "Lossy conversion from float64 to uint8. Range [0, 1]. Convert image to uint8 prior to saving to suppress this warning.\n",
      " 52%|█████▏    | 13/25 [08:01<09:43, 48.63s/it]Lossy conversion from float64 to uint8. Range [0, 1]. Convert image to uint8 prior to saving to suppress this warning.\n",
      "Lossy conversion from float64 to uint8. Range [0, 1]. Convert image to uint8 prior to saving to suppress this warning.\n"
     ]
    },
    {
     "name": "stdout",
     "output_type": "stream",
     "text": [
      "Building the style transfer model..\n",
      "Optimizing..\n"
     ]
    },
    {
     "name": "stderr",
     "output_type": "stream",
     "text": [
      "Lossy conversion from float64 to uint8. Range [0, 1]. Convert image to uint8 prior to saving to suppress this warning.\n"
     ]
    },
    {
     "name": "stdout",
     "output_type": "stream",
     "text": [
      "run [50]:\n",
      "Style Loss : 144.696472 Content Loss: 172.541260, TV Loss:90.5754 Diff Loss: 699.5730 \n",
      "\n"
     ]
    },
    {
     "name": "stderr",
     "output_type": "stream",
     "text": [
      "Lossy conversion from float64 to uint8. Range [0, 1]. Convert image to uint8 prior to saving to suppress this warning.\n"
     ]
    },
    {
     "name": "stdout",
     "output_type": "stream",
     "text": [
      "run [100]:\n",
      "Style Loss : 99.179497 Content Loss: 165.609375, TV Loss:69.3368 Diff Loss: 720.8115 \n",
      "\n"
     ]
    },
    {
     "name": "stderr",
     "output_type": "stream",
     "text": [
      "Lossy conversion from float64 to uint8. Range [0, 1]. Convert image to uint8 prior to saving to suppress this warning.\n"
     ]
    },
    {
     "name": "stdout",
     "output_type": "stream",
     "text": [
      "run [150]:\n",
      "Style Loss : 76.153069 Content Loss: 163.333893, TV Loss:63.8605 Diff Loss: 726.2879 \n",
      "\n"
     ]
    },
    {
     "name": "stderr",
     "output_type": "stream",
     "text": [
      "Lossy conversion from float64 to uint8. Range [0, 1]. Convert image to uint8 prior to saving to suppress this warning.\n"
     ]
    },
    {
     "name": "stdout",
     "output_type": "stream",
     "text": [
      "run [200]:\n",
      "Style Loss : 64.124138 Content Loss: 162.102936, TV Loss:60.9838 Diff Loss: 729.1646 \n",
      "\n"
     ]
    },
    {
     "name": "stderr",
     "output_type": "stream",
     "text": [
      "Lossy conversion from float64 to uint8. Range [0, 1]. Convert image to uint8 prior to saving to suppress this warning.\n"
     ]
    },
    {
     "name": "stdout",
     "output_type": "stream",
     "text": [
      "run [250]:\n",
      "Style Loss : 58.127682 Content Loss: 161.284729, TV Loss:59.3315 Diff Loss: 730.8169 \n",
      "\n"
     ]
    },
    {
     "name": "stderr",
     "output_type": "stream",
     "text": [
      "Lossy conversion from float64 to uint8. Range [0, 1]. Convert image to uint8 prior to saving to suppress this warning.\n"
     ]
    },
    {
     "name": "stdout",
     "output_type": "stream",
     "text": [
      "run [300]:\n",
      "Style Loss : 54.456871 Content Loss: 160.641754, TV Loss:58.1865 Diff Loss: 731.9619 \n",
      "\n"
     ]
    },
    {
     "name": "stderr",
     "output_type": "stream",
     "text": [
      "Lossy conversion from float64 to uint8. Range [0, 1]. Convert image to uint8 prior to saving to suppress this warning.\n"
     ]
    },
    {
     "name": "stdout",
     "output_type": "stream",
     "text": [
      "run [350]:\n",
      "Style Loss : 51.989033 Content Loss: 160.123718, TV Loss:57.3132 Diff Loss: 732.8352 \n",
      "\n"
     ]
    },
    {
     "name": "stderr",
     "output_type": "stream",
     "text": [
      "Lossy conversion from float64 to uint8. Range [0, 1]. Convert image to uint8 prior to saving to suppress this warning.\n"
     ]
    },
    {
     "name": "stdout",
     "output_type": "stream",
     "text": [
      "run [400]:\n",
      "Style Loss : 50.229935 Content Loss: 159.658707, TV Loss:56.6051 Diff Loss: 733.5433 \n",
      "\n"
     ]
    },
    {
     "name": "stderr",
     "output_type": "stream",
     "text": [
      "Lossy conversion from float64 to uint8. Range [0, 1]. Convert image to uint8 prior to saving to suppress this warning.\n"
     ]
    },
    {
     "name": "stdout",
     "output_type": "stream",
     "text": [
      "run [450]:\n",
      "Style Loss : 48.885567 Content Loss: 159.262268, TV Loss:56.0218 Diff Loss: 734.1266 \n",
      "\n"
     ]
    },
    {
     "name": "stderr",
     "output_type": "stream",
     "text": [
      "Lossy conversion from float64 to uint8. Range [0, 1]. Convert image to uint8 prior to saving to suppress this warning.\n"
     ]
    },
    {
     "name": "stdout",
     "output_type": "stream",
     "text": [
      "run [500]:\n",
      "Style Loss : 47.796364 Content Loss: 158.992645, TV Loss:55.4891 Diff Loss: 734.6593 \n",
      "\n"
     ]
    },
    {
     "name": "stderr",
     "output_type": "stream",
     "text": [
      "Lossy conversion from float64 to uint8. Range [0, 1]. Convert image to uint8 prior to saving to suppress this warning.\n",
      " 56%|█████▌    | 14/25 [08:57<09:18, 50.74s/it]Lossy conversion from float64 to uint8. Range [0, 1]. Convert image to uint8 prior to saving to suppress this warning.\n",
      "Lossy conversion from float64 to uint8. Range [0, 1]. Convert image to uint8 prior to saving to suppress this warning.\n"
     ]
    },
    {
     "name": "stdout",
     "output_type": "stream",
     "text": [
      "Building the style transfer model..\n",
      "Optimizing..\n"
     ]
    },
    {
     "name": "stderr",
     "output_type": "stream",
     "text": [
      "Lossy conversion from float64 to uint8. Range [0, 1]. Convert image to uint8 prior to saving to suppress this warning.\n"
     ]
    },
    {
     "name": "stdout",
     "output_type": "stream",
     "text": [
      "run [50]:\n",
      "Style Loss : 141.691299 Content Loss: 169.487457, TV Loss:89.2398 Diff Loss: 739.1108 \n",
      "\n"
     ]
    },
    {
     "name": "stderr",
     "output_type": "stream",
     "text": [
      "Lossy conversion from float64 to uint8. Range [0, 1]. Convert image to uint8 prior to saving to suppress this warning.\n"
     ]
    },
    {
     "name": "stdout",
     "output_type": "stream",
     "text": [
      "run [100]:\n",
      "Style Loss : 97.808258 Content Loss: 162.868744, TV Loss:68.5616 Diff Loss: 759.7889 \n",
      "\n"
     ]
    },
    {
     "name": "stderr",
     "output_type": "stream",
     "text": [
      "Lossy conversion from float64 to uint8. Range [0, 1]. Convert image to uint8 prior to saving to suppress this warning.\n"
     ]
    },
    {
     "name": "stdout",
     "output_type": "stream",
     "text": [
      "run [150]:\n",
      "Style Loss : 73.956528 Content Loss: 160.704803, TV Loss:63.2737 Diff Loss: 765.0769 \n",
      "\n"
     ]
    },
    {
     "name": "stderr",
     "output_type": "stream",
     "text": [
      "Lossy conversion from float64 to uint8. Range [0, 1]. Convert image to uint8 prior to saving to suppress this warning.\n"
     ]
    },
    {
     "name": "stdout",
     "output_type": "stream",
     "text": [
      "run [200]:\n",
      "Style Loss : 62.099113 Content Loss: 159.703308, TV Loss:60.4909 Diff Loss: 767.8597 \n",
      "\n"
     ]
    },
    {
     "name": "stderr",
     "output_type": "stream",
     "text": [
      "Lossy conversion from float64 to uint8. Range [0, 1]. Convert image to uint8 prior to saving to suppress this warning.\n"
     ]
    },
    {
     "name": "stdout",
     "output_type": "stream",
     "text": [
      "run [250]:\n",
      "Style Loss : 56.551727 Content Loss: 158.942612, TV Loss:58.6835 Diff Loss: 769.6671 \n",
      "\n"
     ]
    },
    {
     "name": "stderr",
     "output_type": "stream",
     "text": [
      "Lossy conversion from float64 to uint8. Range [0, 1]. Convert image to uint8 prior to saving to suppress this warning.\n"
     ]
    },
    {
     "name": "stdout",
     "output_type": "stream",
     "text": [
      "run [300]:\n",
      "Style Loss : 53.059956 Content Loss: 158.308792, TV Loss:57.4732 Diff Loss: 770.8774 \n",
      "\n"
     ]
    },
    {
     "name": "stderr",
     "output_type": "stream",
     "text": [
      "Lossy conversion from float64 to uint8. Range [0, 1]. Convert image to uint8 prior to saving to suppress this warning.\n"
     ]
    },
    {
     "name": "stdout",
     "output_type": "stream",
     "text": [
      "run [350]:\n",
      "Style Loss : 50.696442 Content Loss: 157.835220, TV Loss:56.5529 Diff Loss: 771.7976 \n",
      "\n"
     ]
    },
    {
     "name": "stderr",
     "output_type": "stream",
     "text": [
      "Lossy conversion from float64 to uint8. Range [0, 1]. Convert image to uint8 prior to saving to suppress this warning.\n"
     ]
    },
    {
     "name": "stdout",
     "output_type": "stream",
     "text": [
      "run [400]:\n",
      "Style Loss : 48.995453 Content Loss: 157.441116, TV Loss:55.8502 Diff Loss: 772.5004 \n",
      "\n"
     ]
    },
    {
     "name": "stderr",
     "output_type": "stream",
     "text": [
      "Lossy conversion from float64 to uint8. Range [0, 1]. Convert image to uint8 prior to saving to suppress this warning.\n"
     ]
    },
    {
     "name": "stdout",
     "output_type": "stream",
     "text": [
      "run [450]:\n",
      "Style Loss : 47.831657 Content Loss: 157.057709, TV Loss:55.1748 Diff Loss: 773.1758 \n",
      "\n"
     ]
    },
    {
     "name": "stderr",
     "output_type": "stream",
     "text": [
      "Lossy conversion from float64 to uint8. Range [0, 1]. Convert image to uint8 prior to saving to suppress this warning.\n"
     ]
    },
    {
     "name": "stdout",
     "output_type": "stream",
     "text": [
      "run [500]:\n",
      "Style Loss : 46.858498 Content Loss: 156.763443, TV Loss:54.6263 Diff Loss: 773.7243 \n",
      "\n"
     ]
    },
    {
     "name": "stderr",
     "output_type": "stream",
     "text": [
      "Lossy conversion from float64 to uint8. Range [0, 1]. Convert image to uint8 prior to saving to suppress this warning.\n",
      " 60%|██████    | 15/25 [09:52<08:42, 52.26s/it]Lossy conversion from float64 to uint8. Range [0, 1]. Convert image to uint8 prior to saving to suppress this warning.\n",
      "Lossy conversion from float64 to uint8. Range [0, 1]. Convert image to uint8 prior to saving to suppress this warning.\n"
     ]
    },
    {
     "name": "stdout",
     "output_type": "stream",
     "text": [
      "Building the style transfer model..\n",
      "Optimizing..\n"
     ]
    },
    {
     "name": "stderr",
     "output_type": "stream",
     "text": [
      "Lossy conversion from float64 to uint8. Range [0, 1]. Convert image to uint8 prior to saving to suppress this warning.\n"
     ]
    },
    {
     "name": "stdout",
     "output_type": "stream",
     "text": [
      "run [50]:\n",
      "Style Loss : 143.904892 Content Loss: 170.770905, TV Loss:89.2036 Diff Loss: 727.9211 \n",
      "\n"
     ]
    },
    {
     "name": "stderr",
     "output_type": "stream",
     "text": [
      "Lossy conversion from float64 to uint8. Range [0, 1]. Convert image to uint8 prior to saving to suppress this warning.\n"
     ]
    },
    {
     "name": "stdout",
     "output_type": "stream",
     "text": [
      "run [100]:\n",
      "Style Loss : 98.747597 Content Loss: 164.413147, TV Loss:68.9742 Diff Loss: 748.1505 \n",
      "\n"
     ]
    },
    {
     "name": "stderr",
     "output_type": "stream",
     "text": [
      "Lossy conversion from float64 to uint8. Range [0, 1]. Convert image to uint8 prior to saving to suppress this warning.\n"
     ]
    },
    {
     "name": "stdout",
     "output_type": "stream",
     "text": [
      "run [150]:\n",
      "Style Loss : 74.833191 Content Loss: 162.382339, TV Loss:63.5430 Diff Loss: 753.5817 \n",
      "\n"
     ]
    },
    {
     "name": "stderr",
     "output_type": "stream",
     "text": [
      "Lossy conversion from float64 to uint8. Range [0, 1]. Convert image to uint8 prior to saving to suppress this warning.\n"
     ]
    },
    {
     "name": "stdout",
     "output_type": "stream",
     "text": [
      "run [200]:\n",
      "Style Loss : 62.975784 Content Loss: 161.321716, TV Loss:60.4925 Diff Loss: 756.6323 \n",
      "\n"
     ]
    },
    {
     "name": "stderr",
     "output_type": "stream",
     "text": [
      "Lossy conversion from float64 to uint8. Range [0, 1]. Convert image to uint8 prior to saving to suppress this warning.\n"
     ]
    },
    {
     "name": "stdout",
     "output_type": "stream",
     "text": [
      "run [250]:\n",
      "Style Loss : 57.083736 Content Loss: 160.477448, TV Loss:58.7172 Diff Loss: 758.4075 \n",
      "\n"
     ]
    },
    {
     "name": "stderr",
     "output_type": "stream",
     "text": [
      "Lossy conversion from float64 to uint8. Range [0, 1]. Convert image to uint8 prior to saving to suppress this warning.\n"
     ]
    },
    {
     "name": "stdout",
     "output_type": "stream",
     "text": [
      "run [300]:\n",
      "Style Loss : 53.481228 Content Loss: 159.927826, TV Loss:57.5475 Diff Loss: 759.5771 \n",
      "\n"
     ]
    },
    {
     "name": "stderr",
     "output_type": "stream",
     "text": [
      "Lossy conversion from float64 to uint8. Range [0, 1]. Convert image to uint8 prior to saving to suppress this warning.\n"
     ]
    },
    {
     "name": "stdout",
     "output_type": "stream",
     "text": [
      "run [350]:\n",
      "Style Loss : 51.064007 Content Loss: 159.453339, TV Loss:56.6148 Diff Loss: 760.5099 \n",
      "\n"
     ]
    },
    {
     "name": "stderr",
     "output_type": "stream",
     "text": [
      "Lossy conversion from float64 to uint8. Range [0, 1]. Convert image to uint8 prior to saving to suppress this warning.\n"
     ]
    },
    {
     "name": "stdout",
     "output_type": "stream",
     "text": [
      "run [400]:\n",
      "Style Loss : 49.406586 Content Loss: 158.989212, TV Loss:55.8295 Diff Loss: 761.2952 \n",
      "\n"
     ]
    },
    {
     "name": "stderr",
     "output_type": "stream",
     "text": [
      "Lossy conversion from float64 to uint8. Range [0, 1]. Convert image to uint8 prior to saving to suppress this warning.\n"
     ]
    },
    {
     "name": "stdout",
     "output_type": "stream",
     "text": [
      "run [450]:\n",
      "Style Loss : 48.137424 Content Loss: 158.622879, TV Loss:55.2448 Diff Loss: 761.8799 \n",
      "\n"
     ]
    },
    {
     "name": "stderr",
     "output_type": "stream",
     "text": [
      "Lossy conversion from float64 to uint8. Range [0, 1]. Convert image to uint8 prior to saving to suppress this warning.\n"
     ]
    },
    {
     "name": "stdout",
     "output_type": "stream",
     "text": [
      "run [500]:\n",
      "Style Loss : 47.092812 Content Loss: 158.336182, TV Loss:54.7200 Diff Loss: 762.4047 \n",
      "\n"
     ]
    },
    {
     "name": "stderr",
     "output_type": "stream",
     "text": [
      "Lossy conversion from float64 to uint8. Range [0, 1]. Convert image to uint8 prior to saving to suppress this warning.\n",
      " 64%|██████▍   | 16/25 [10:50<08:05, 53.99s/it]Lossy conversion from float64 to uint8. Range [0, 1]. Convert image to uint8 prior to saving to suppress this warning.\n",
      "Lossy conversion from float64 to uint8. Range [0, 1]. Convert image to uint8 prior to saving to suppress this warning.\n"
     ]
    },
    {
     "name": "stdout",
     "output_type": "stream",
     "text": [
      "Building the style transfer model..\n",
      "Optimizing..\n"
     ]
    },
    {
     "name": "stderr",
     "output_type": "stream",
     "text": [
      "Lossy conversion from float64 to uint8. Range [0, 1]. Convert image to uint8 prior to saving to suppress this warning.\n"
     ]
    },
    {
     "name": "stdout",
     "output_type": "stream",
     "text": [
      "run [50]:\n",
      "Style Loss : 150.686569 Content Loss: 172.847992, TV Loss:89.6867 Diff Loss: 764.3274 \n",
      "\n"
     ]
    },
    {
     "name": "stderr",
     "output_type": "stream",
     "text": [
      "Lossy conversion from float64 to uint8. Range [0, 1]. Convert image to uint8 prior to saving to suppress this warning.\n"
     ]
    },
    {
     "name": "stdout",
     "output_type": "stream",
     "text": [
      "run [100]:\n",
      "Style Loss : 101.870438 Content Loss: 166.165237, TV Loss:68.6319 Diff Loss: 785.3822 \n",
      "\n"
     ]
    },
    {
     "name": "stderr",
     "output_type": "stream",
     "text": [
      "Lossy conversion from float64 to uint8. Range [0, 1]. Convert image to uint8 prior to saving to suppress this warning.\n"
     ]
    },
    {
     "name": "stdout",
     "output_type": "stream",
     "text": [
      "run [150]:\n",
      "Style Loss : 77.683014 Content Loss: 163.936127, TV Loss:63.2859 Diff Loss: 790.7282 \n",
      "\n"
     ]
    },
    {
     "name": "stderr",
     "output_type": "stream",
     "text": [
      "Lossy conversion from float64 to uint8. Range [0, 1]. Convert image to uint8 prior to saving to suppress this warning.\n"
     ]
    },
    {
     "name": "stdout",
     "output_type": "stream",
     "text": [
      "run [200]:\n",
      "Style Loss : 65.662811 Content Loss: 162.942947, TV Loss:60.5597 Diff Loss: 793.4543 \n",
      "\n"
     ]
    },
    {
     "name": "stderr",
     "output_type": "stream",
     "text": [
      "Lossy conversion from float64 to uint8. Range [0, 1]. Convert image to uint8 prior to saving to suppress this warning.\n"
     ]
    },
    {
     "name": "stdout",
     "output_type": "stream",
     "text": [
      "run [250]:\n",
      "Style Loss : 59.477249 Content Loss: 162.236023, TV Loss:58.8730 Diff Loss: 795.1412 \n",
      "\n"
     ]
    },
    {
     "name": "stderr",
     "output_type": "stream",
     "text": [
      "Lossy conversion from float64 to uint8. Range [0, 1]. Convert image to uint8 prior to saving to suppress this warning.\n"
     ]
    },
    {
     "name": "stdout",
     "output_type": "stream",
     "text": [
      "run [300]:\n",
      "Style Loss : 55.767723 Content Loss: 161.642838, TV Loss:57.6599 Diff Loss: 796.3542 \n",
      "\n"
     ]
    },
    {
     "name": "stderr",
     "output_type": "stream",
     "text": [
      "Lossy conversion from float64 to uint8. Range [0, 1]. Convert image to uint8 prior to saving to suppress this warning.\n"
     ]
    },
    {
     "name": "stdout",
     "output_type": "stream",
     "text": [
      "run [350]:\n",
      "Style Loss : 53.306961 Content Loss: 161.229889, TV Loss:56.7457 Diff Loss: 797.2684 \n",
      "\n"
     ]
    },
    {
     "name": "stderr",
     "output_type": "stream",
     "text": [
      "Lossy conversion from float64 to uint8. Range [0, 1]. Convert image to uint8 prior to saving to suppress this warning.\n"
     ]
    },
    {
     "name": "stdout",
     "output_type": "stream",
     "text": [
      "run [400]:\n",
      "Style Loss : 51.684223 Content Loss: 160.775146, TV Loss:56.0142 Diff Loss: 797.9999 \n",
      "\n"
     ]
    },
    {
     "name": "stderr",
     "output_type": "stream",
     "text": [
      "Lossy conversion from float64 to uint8. Range [0, 1]. Convert image to uint8 prior to saving to suppress this warning.\n"
     ]
    },
    {
     "name": "stdout",
     "output_type": "stream",
     "text": [
      "run [450]:\n",
      "Style Loss : 50.485802 Content Loss: 160.402527, TV Loss:55.3888 Diff Loss: 798.6252 \n",
      "\n"
     ]
    },
    {
     "name": "stderr",
     "output_type": "stream",
     "text": [
      "Lossy conversion from float64 to uint8. Range [0, 1]. Convert image to uint8 prior to saving to suppress this warning.\n"
     ]
    },
    {
     "name": "stdout",
     "output_type": "stream",
     "text": [
      "run [500]:\n",
      "Style Loss : 49.445721 Content Loss: 160.124435, TV Loss:54.8437 Diff Loss: 799.1703 \n",
      "\n"
     ]
    },
    {
     "name": "stderr",
     "output_type": "stream",
     "text": [
      "Lossy conversion from float64 to uint8. Range [0, 1]. Convert image to uint8 prior to saving to suppress this warning.\n",
      " 68%|██████▊   | 17/25 [11:48<07:20, 55.05s/it]Lossy conversion from float64 to uint8. Range [0, 1]. Convert image to uint8 prior to saving to suppress this warning.\n",
      "Lossy conversion from float64 to uint8. Range [0, 1]. Convert image to uint8 prior to saving to suppress this warning.\n"
     ]
    },
    {
     "name": "stdout",
     "output_type": "stream",
     "text": [
      "Building the style transfer model..\n",
      "Optimizing..\n"
     ]
    },
    {
     "name": "stderr",
     "output_type": "stream",
     "text": [
      "Lossy conversion from float64 to uint8. Range [0, 1]. Convert image to uint8 prior to saving to suppress this warning.\n"
     ]
    },
    {
     "name": "stdout",
     "output_type": "stream",
     "text": [
      "run [50]:\n",
      "Style Loss : 164.159119 Content Loss: 186.475372, TV Loss:90.5769 Diff Loss: 760.5125 \n",
      "\n"
     ]
    },
    {
     "name": "stderr",
     "output_type": "stream",
     "text": [
      "Lossy conversion from float64 to uint8. Range [0, 1]. Convert image to uint8 prior to saving to suppress this warning.\n"
     ]
    },
    {
     "name": "stdout",
     "output_type": "stream",
     "text": [
      "run [100]:\n",
      "Style Loss : 111.891319 Content Loss: 179.356003, TV Loss:68.6269 Diff Loss: 782.4625 \n",
      "\n"
     ]
    },
    {
     "name": "stderr",
     "output_type": "stream",
     "text": [
      "Lossy conversion from float64 to uint8. Range [0, 1]. Convert image to uint8 prior to saving to suppress this warning.\n"
     ]
    },
    {
     "name": "stdout",
     "output_type": "stream",
     "text": [
      "run [150]:\n",
      "Style Loss : 85.416161 Content Loss: 176.537750, TV Loss:62.8296 Diff Loss: 788.2598 \n",
      "\n"
     ]
    },
    {
     "name": "stderr",
     "output_type": "stream",
     "text": [
      "Lossy conversion from float64 to uint8. Range [0, 1]. Convert image to uint8 prior to saving to suppress this warning.\n"
     ]
    },
    {
     "name": "stdout",
     "output_type": "stream",
     "text": [
      "run [200]:\n",
      "Style Loss : 72.487831 Content Loss: 175.249847, TV Loss:59.8131 Diff Loss: 791.2762 \n",
      "\n"
     ]
    },
    {
     "name": "stderr",
     "output_type": "stream",
     "text": [
      "Lossy conversion from float64 to uint8. Range [0, 1]. Convert image to uint8 prior to saving to suppress this warning.\n"
     ]
    },
    {
     "name": "stdout",
     "output_type": "stream",
     "text": [
      "run [250]:\n",
      "Style Loss : 65.584885 Content Loss: 174.540314, TV Loss:58.0634 Diff Loss: 793.0259 \n",
      "\n"
     ]
    },
    {
     "name": "stderr",
     "output_type": "stream",
     "text": [
      "Lossy conversion from float64 to uint8. Range [0, 1]. Convert image to uint8 prior to saving to suppress this warning.\n"
     ]
    },
    {
     "name": "stdout",
     "output_type": "stream",
     "text": [
      "run [300]:\n",
      "Style Loss : 61.746265 Content Loss: 173.828918, TV Loss:56.9245 Diff Loss: 794.1649 \n",
      "\n"
     ]
    },
    {
     "name": "stderr",
     "output_type": "stream",
     "text": [
      "Lossy conversion from float64 to uint8. Range [0, 1]. Convert image to uint8 prior to saving to suppress this warning.\n"
     ]
    },
    {
     "name": "stdout",
     "output_type": "stream",
     "text": [
      "run [350]:\n",
      "Style Loss : 59.141747 Content Loss: 173.268463, TV Loss:55.9322 Diff Loss: 795.1572 \n",
      "\n"
     ]
    },
    {
     "name": "stderr",
     "output_type": "stream",
     "text": [
      "Lossy conversion from float64 to uint8. Range [0, 1]. Convert image to uint8 prior to saving to suppress this warning.\n"
     ]
    },
    {
     "name": "stdout",
     "output_type": "stream",
     "text": [
      "run [400]:\n",
      "Style Loss : 57.272633 Content Loss: 172.823654, TV Loss:55.2972 Diff Loss: 795.7922 \n",
      "\n"
     ]
    },
    {
     "name": "stderr",
     "output_type": "stream",
     "text": [
      "Lossy conversion from float64 to uint8. Range [0, 1]. Convert image to uint8 prior to saving to suppress this warning.\n"
     ]
    },
    {
     "name": "stdout",
     "output_type": "stream",
     "text": [
      "run [450]:\n",
      "Style Loss : 55.876072 Content Loss: 172.443619, TV Loss:54.7022 Diff Loss: 796.3871 \n",
      "\n"
     ]
    },
    {
     "name": "stderr",
     "output_type": "stream",
     "text": [
      "Lossy conversion from float64 to uint8. Range [0, 1]. Convert image to uint8 prior to saving to suppress this warning.\n"
     ]
    },
    {
     "name": "stdout",
     "output_type": "stream",
     "text": [
      "run [500]:\n",
      "Style Loss : 54.743961 Content Loss: 172.167694, TV Loss:54.2223 Diff Loss: 796.8670 \n",
      "\n"
     ]
    },
    {
     "name": "stderr",
     "output_type": "stream",
     "text": [
      "Lossy conversion from float64 to uint8. Range [0, 1]. Convert image to uint8 prior to saving to suppress this warning.\n",
      " 72%|███████▏  | 18/25 [12:47<06:34, 56.32s/it]Lossy conversion from float64 to uint8. Range [0, 1]. Convert image to uint8 prior to saving to suppress this warning.\n",
      "Lossy conversion from float64 to uint8. Range [0, 1]. Convert image to uint8 prior to saving to suppress this warning.\n"
     ]
    },
    {
     "name": "stdout",
     "output_type": "stream",
     "text": [
      "Building the style transfer model..\n",
      "Optimizing..\n"
     ]
    },
    {
     "name": "stderr",
     "output_type": "stream",
     "text": [
      "Lossy conversion from float64 to uint8. Range [0, 1]. Convert image to uint8 prior to saving to suppress this warning.\n"
     ]
    },
    {
     "name": "stdout",
     "output_type": "stream",
     "text": [
      "run [50]:\n",
      "Style Loss : 178.945633 Content Loss: 194.648743, TV Loss:91.5973 Diff Loss: 723.3345 \n",
      "\n"
     ]
    },
    {
     "name": "stderr",
     "output_type": "stream",
     "text": [
      "Lossy conversion from float64 to uint8. Range [0, 1]. Convert image to uint8 prior to saving to suppress this warning.\n"
     ]
    },
    {
     "name": "stdout",
     "output_type": "stream",
     "text": [
      "run [100]:\n",
      "Style Loss : 120.378052 Content Loss: 186.777496, TV Loss:69.4473 Diff Loss: 745.4845 \n",
      "\n"
     ]
    },
    {
     "name": "stderr",
     "output_type": "stream",
     "text": [
      "Lossy conversion from float64 to uint8. Range [0, 1]. Convert image to uint8 prior to saving to suppress this warning.\n"
     ]
    },
    {
     "name": "stdout",
     "output_type": "stream",
     "text": [
      "run [150]:\n",
      "Style Loss : 91.333755 Content Loss: 184.068634, TV Loss:63.9186 Diff Loss: 751.0132 \n",
      "\n"
     ]
    },
    {
     "name": "stderr",
     "output_type": "stream",
     "text": [
      "Lossy conversion from float64 to uint8. Range [0, 1]. Convert image to uint8 prior to saving to suppress this warning.\n"
     ]
    },
    {
     "name": "stdout",
     "output_type": "stream",
     "text": [
      "run [200]:\n",
      "Style Loss : 76.631310 Content Loss: 182.469345, TV Loss:60.8799 Diff Loss: 754.0519 \n",
      "\n"
     ]
    },
    {
     "name": "stderr",
     "output_type": "stream",
     "text": [
      "Lossy conversion from float64 to uint8. Range [0, 1]. Convert image to uint8 prior to saving to suppress this warning.\n"
     ]
    },
    {
     "name": "stdout",
     "output_type": "stream",
     "text": [
      "run [250]:\n",
      "Style Loss : 69.310516 Content Loss: 181.604843, TV Loss:59.0456 Diff Loss: 755.8862 \n",
      "\n"
     ]
    },
    {
     "name": "stderr",
     "output_type": "stream",
     "text": [
      "Lossy conversion from float64 to uint8. Range [0, 1]. Convert image to uint8 prior to saving to suppress this warning.\n"
     ]
    },
    {
     "name": "stdout",
     "output_type": "stream",
     "text": [
      "run [300]:\n",
      "Style Loss : 65.053917 Content Loss: 180.922165, TV Loss:57.8061 Diff Loss: 757.1257 \n",
      "\n"
     ]
    },
    {
     "name": "stderr",
     "output_type": "stream",
     "text": [
      "Lossy conversion from float64 to uint8. Range [0, 1]. Convert image to uint8 prior to saving to suppress this warning.\n"
     ]
    },
    {
     "name": "stdout",
     "output_type": "stream",
     "text": [
      "run [350]:\n",
      "Style Loss : 62.205605 Content Loss: 180.301910, TV Loss:56.8239 Diff Loss: 758.1079 \n",
      "\n"
     ]
    },
    {
     "name": "stderr",
     "output_type": "stream",
     "text": [
      "Lossy conversion from float64 to uint8. Range [0, 1]. Convert image to uint8 prior to saving to suppress this warning.\n"
     ]
    },
    {
     "name": "stdout",
     "output_type": "stream",
     "text": [
      "run [400]:\n",
      "Style Loss : 60.108791 Content Loss: 179.913788, TV Loss:56.0437 Diff Loss: 758.8881 \n",
      "\n"
     ]
    },
    {
     "name": "stderr",
     "output_type": "stream",
     "text": [
      "Lossy conversion from float64 to uint8. Range [0, 1]. Convert image to uint8 prior to saving to suppress this warning.\n"
     ]
    },
    {
     "name": "stdout",
     "output_type": "stream",
     "text": [
      "run [450]:\n",
      "Style Loss : 58.511925 Content Loss: 179.593796, TV Loss:55.3882 Diff Loss: 759.5436 \n",
      "\n"
     ]
    },
    {
     "name": "stderr",
     "output_type": "stream",
     "text": [
      "Lossy conversion from float64 to uint8. Range [0, 1]. Convert image to uint8 prior to saving to suppress this warning.\n"
     ]
    },
    {
     "name": "stdout",
     "output_type": "stream",
     "text": [
      "run [500]:\n",
      "Style Loss : 57.356266 Content Loss: 179.227463, TV Loss:54.8136 Diff Loss: 760.1182 \n",
      "\n"
     ]
    },
    {
     "name": "stderr",
     "output_type": "stream",
     "text": [
      "Lossy conversion from float64 to uint8. Range [0, 1]. Convert image to uint8 prior to saving to suppress this warning.\n",
      " 76%|███████▌  | 19/25 [13:45<05:39, 56.66s/it]Lossy conversion from float64 to uint8. Range [0, 1]. Convert image to uint8 prior to saving to suppress this warning.\n",
      "Lossy conversion from float64 to uint8. Range [0, 1]. Convert image to uint8 prior to saving to suppress this warning.\n"
     ]
    },
    {
     "name": "stdout",
     "output_type": "stream",
     "text": [
      "Building the style transfer model..\n",
      "Optimizing..\n"
     ]
    },
    {
     "name": "stderr",
     "output_type": "stream",
     "text": [
      "Lossy conversion from float64 to uint8. Range [0, 1]. Convert image to uint8 prior to saving to suppress this warning.\n"
     ]
    },
    {
     "name": "stdout",
     "output_type": "stream",
     "text": [
      "run [50]:\n",
      "Style Loss : 194.424576 Content Loss: 190.060440, TV Loss:91.9579 Diff Loss: 758.5598 \n",
      "\n"
     ]
    },
    {
     "name": "stderr",
     "output_type": "stream",
     "text": [
      "Lossy conversion from float64 to uint8. Range [0, 1]. Convert image to uint8 prior to saving to suppress this warning.\n"
     ]
    },
    {
     "name": "stdout",
     "output_type": "stream",
     "text": [
      "run [100]:\n",
      "Style Loss : 128.671967 Content Loss: 182.995682, TV Loss:69.4515 Diff Loss: 781.0662 \n",
      "\n"
     ]
    },
    {
     "name": "stderr",
     "output_type": "stream",
     "text": [
      "Lossy conversion from float64 to uint8. Range [0, 1]. Convert image to uint8 prior to saving to suppress this warning.\n"
     ]
    },
    {
     "name": "stdout",
     "output_type": "stream",
     "text": [
      "run [150]:\n",
      "Style Loss : 97.049950 Content Loss: 180.368423, TV Loss:64.0702 Diff Loss: 786.4475 \n",
      "\n"
     ]
    },
    {
     "name": "stderr",
     "output_type": "stream",
     "text": [
      "Lossy conversion from float64 to uint8. Range [0, 1]. Convert image to uint8 prior to saving to suppress this warning.\n"
     ]
    },
    {
     "name": "stdout",
     "output_type": "stream",
     "text": [
      "run [200]:\n",
      "Style Loss : 80.419357 Content Loss: 179.016953, TV Loss:61.3984 Diff Loss: 789.1193 \n",
      "\n"
     ]
    },
    {
     "name": "stderr",
     "output_type": "stream",
     "text": [
      "Lossy conversion from float64 to uint8. Range [0, 1]. Convert image to uint8 prior to saving to suppress this warning.\n"
     ]
    },
    {
     "name": "stdout",
     "output_type": "stream",
     "text": [
      "run [250]:\n",
      "Style Loss : 71.904022 Content Loss: 178.180817, TV Loss:59.5886 Diff Loss: 790.9291 \n",
      "\n"
     ]
    },
    {
     "name": "stderr",
     "output_type": "stream",
     "text": [
      "Lossy conversion from float64 to uint8. Range [0, 1]. Convert image to uint8 prior to saving to suppress this warning.\n"
     ]
    },
    {
     "name": "stdout",
     "output_type": "stream",
     "text": [
      "run [300]:\n",
      "Style Loss : 66.832535 Content Loss: 177.642502, TV Loss:58.3627 Diff Loss: 792.1550 \n",
      "\n"
     ]
    },
    {
     "name": "stderr",
     "output_type": "stream",
     "text": [
      "Lossy conversion from float64 to uint8. Range [0, 1]. Convert image to uint8 prior to saving to suppress this warning.\n"
     ]
    },
    {
     "name": "stdout",
     "output_type": "stream",
     "text": [
      "run [350]:\n",
      "Style Loss : 63.653912 Content Loss: 177.153854, TV Loss:57.3686 Diff Loss: 793.1491 \n",
      "\n"
     ]
    },
    {
     "name": "stderr",
     "output_type": "stream",
     "text": [
      "Lossy conversion from float64 to uint8. Range [0, 1]. Convert image to uint8 prior to saving to suppress this warning.\n"
     ]
    },
    {
     "name": "stdout",
     "output_type": "stream",
     "text": [
      "run [400]:\n",
      "Style Loss : 61.401310 Content Loss: 176.756134, TV Loss:56.5007 Diff Loss: 794.0170 \n",
      "\n"
     ]
    },
    {
     "name": "stderr",
     "output_type": "stream",
     "text": [
      "Lossy conversion from float64 to uint8. Range [0, 1]. Convert image to uint8 prior to saving to suppress this warning.\n"
     ]
    },
    {
     "name": "stdout",
     "output_type": "stream",
     "text": [
      "run [450]:\n",
      "Style Loss : 59.828590 Content Loss: 176.352844, TV Loss:55.7832 Diff Loss: 794.7346 \n",
      "\n"
     ]
    },
    {
     "name": "stderr",
     "output_type": "stream",
     "text": [
      "Lossy conversion from float64 to uint8. Range [0, 1]. Convert image to uint8 prior to saving to suppress this warning.\n"
     ]
    },
    {
     "name": "stdout",
     "output_type": "stream",
     "text": [
      "run [500]:\n",
      "Style Loss : 58.619900 Content Loss: 176.034576, TV Loss:55.1987 Diff Loss: 795.3190 \n",
      "\n"
     ]
    },
    {
     "name": "stderr",
     "output_type": "stream",
     "text": [
      "Lossy conversion from float64 to uint8. Range [0, 1]. Convert image to uint8 prior to saving to suppress this warning.\n",
      " 80%|████████  | 20/25 [14:43<04:45, 57.05s/it]Lossy conversion from float64 to uint8. Range [0, 1]. Convert image to uint8 prior to saving to suppress this warning.\n",
      "Lossy conversion from float64 to uint8. Range [0, 1]. Convert image to uint8 prior to saving to suppress this warning.\n"
     ]
    },
    {
     "name": "stdout",
     "output_type": "stream",
     "text": [
      "Building the style transfer model..\n",
      "Optimizing..\n"
     ]
    },
    {
     "name": "stderr",
     "output_type": "stream",
     "text": [
      "Lossy conversion from float64 to uint8. Range [0, 1]. Convert image to uint8 prior to saving to suppress this warning.\n"
     ]
    },
    {
     "name": "stdout",
     "output_type": "stream",
     "text": [
      "run [50]:\n",
      "Style Loss : 218.033615 Content Loss: 198.418350, TV Loss:91.4864 Diff Loss: 716.6500 \n",
      "\n"
     ]
    },
    {
     "name": "stderr",
     "output_type": "stream",
     "text": [
      "Lossy conversion from float64 to uint8. Range [0, 1]. Convert image to uint8 prior to saving to suppress this warning.\n"
     ]
    },
    {
     "name": "stdout",
     "output_type": "stream",
     "text": [
      "run [100]:\n",
      "Style Loss : 145.523712 Content Loss: 190.269699, TV Loss:68.7215 Diff Loss: 739.4150 \n",
      "\n"
     ]
    },
    {
     "name": "stderr",
     "output_type": "stream",
     "text": [
      "Lossy conversion from float64 to uint8. Range [0, 1]. Convert image to uint8 prior to saving to suppress this warning.\n"
     ]
    },
    {
     "name": "stdout",
     "output_type": "stream",
     "text": [
      "run [150]:\n",
      "Style Loss : 109.142517 Content Loss: 187.405334, TV Loss:63.6011 Diff Loss: 744.5354 \n",
      "\n"
     ]
    },
    {
     "name": "stderr",
     "output_type": "stream",
     "text": [
      "Lossy conversion from float64 to uint8. Range [0, 1]. Convert image to uint8 prior to saving to suppress this warning.\n"
     ]
    },
    {
     "name": "stdout",
     "output_type": "stream",
     "text": [
      "run [200]:\n",
      "Style Loss : 89.922104 Content Loss: 186.210297, TV Loss:60.9090 Diff Loss: 747.2275 \n",
      "\n"
     ]
    },
    {
     "name": "stderr",
     "output_type": "stream",
     "text": [
      "Lossy conversion from float64 to uint8. Range [0, 1]. Convert image to uint8 prior to saving to suppress this warning.\n"
     ]
    },
    {
     "name": "stdout",
     "output_type": "stream",
     "text": [
      "run [250]:\n",
      "Style Loss : 80.101540 Content Loss: 185.495728, TV Loss:58.9835 Diff Loss: 749.1530 \n",
      "\n"
     ]
    },
    {
     "name": "stderr",
     "output_type": "stream",
     "text": [
      "Lossy conversion from float64 to uint8. Range [0, 1]. Convert image to uint8 prior to saving to suppress this warning.\n"
     ]
    },
    {
     "name": "stdout",
     "output_type": "stream",
     "text": [
      "run [300]:\n",
      "Style Loss : 74.470490 Content Loss: 184.977722, TV Loss:57.7519 Diff Loss: 750.3845 \n",
      "\n"
     ]
    },
    {
     "name": "stderr",
     "output_type": "stream",
     "text": [
      "Lossy conversion from float64 to uint8. Range [0, 1]. Convert image to uint8 prior to saving to suppress this warning.\n"
     ]
    },
    {
     "name": "stdout",
     "output_type": "stream",
     "text": [
      "run [350]:\n",
      "Style Loss : 70.955330 Content Loss: 184.404755, TV Loss:56.7362 Diff Loss: 751.4002 \n",
      "\n"
     ]
    },
    {
     "name": "stderr",
     "output_type": "stream",
     "text": [
      "Lossy conversion from float64 to uint8. Range [0, 1]. Convert image to uint8 prior to saving to suppress this warning.\n"
     ]
    },
    {
     "name": "stdout",
     "output_type": "stream",
     "text": [
      "run [400]:\n",
      "Style Loss : 68.372154 Content Loss: 184.043091, TV Loss:55.9521 Diff Loss: 752.1843 \n",
      "\n"
     ]
    },
    {
     "name": "stderr",
     "output_type": "stream",
     "text": [
      "Lossy conversion from float64 to uint8. Range [0, 1]. Convert image to uint8 prior to saving to suppress this warning.\n"
     ]
    },
    {
     "name": "stdout",
     "output_type": "stream",
     "text": [
      "run [450]:\n",
      "Style Loss : 66.444763 Content Loss: 183.786163, TV Loss:55.3205 Diff Loss: 752.8159 \n",
      "\n"
     ]
    },
    {
     "name": "stderr",
     "output_type": "stream",
     "text": [
      "Lossy conversion from float64 to uint8. Range [0, 1]. Convert image to uint8 prior to saving to suppress this warning.\n"
     ]
    },
    {
     "name": "stdout",
     "output_type": "stream",
     "text": [
      "run [500]:\n",
      "Style Loss : 64.960487 Content Loss: 183.560715, TV Loss:54.7817 Diff Loss: 753.3547 \n",
      "\n"
     ]
    },
    {
     "name": "stderr",
     "output_type": "stream",
     "text": [
      "Lossy conversion from float64 to uint8. Range [0, 1]. Convert image to uint8 prior to saving to suppress this warning.\n",
      " 84%|████████▍ | 21/25 [15:41<03:50, 57.55s/it]Lossy conversion from float64 to uint8. Range [0, 1]. Convert image to uint8 prior to saving to suppress this warning.\n",
      "Lossy conversion from float64 to uint8. Range [0, 1]. Convert image to uint8 prior to saving to suppress this warning.\n"
     ]
    },
    {
     "name": "stdout",
     "output_type": "stream",
     "text": [
      "Building the style transfer model..\n",
      "Optimizing..\n"
     ]
    },
    {
     "name": "stderr",
     "output_type": "stream",
     "text": [
      "Lossy conversion from float64 to uint8. Range [0, 1]. Convert image to uint8 prior to saving to suppress this warning.\n"
     ]
    },
    {
     "name": "stdout",
     "output_type": "stream",
     "text": [
      "run [50]:\n",
      "Style Loss : 255.110123 Content Loss: 209.335663, TV Loss:92.7282 Diff Loss: 621.4365 \n",
      "\n"
     ]
    },
    {
     "name": "stderr",
     "output_type": "stream",
     "text": [
      "Lossy conversion from float64 to uint8. Range [0, 1]. Convert image to uint8 prior to saving to suppress this warning.\n"
     ]
    },
    {
     "name": "stdout",
     "output_type": "stream",
     "text": [
      "run [100]:\n",
      "Style Loss : 165.882584 Content Loss: 201.195007, TV Loss:69.3216 Diff Loss: 644.8431 \n",
      "\n"
     ]
    },
    {
     "name": "stderr",
     "output_type": "stream",
     "text": [
      "Lossy conversion from float64 to uint8. Range [0, 1]. Convert image to uint8 prior to saving to suppress this warning.\n"
     ]
    },
    {
     "name": "stdout",
     "output_type": "stream",
     "text": [
      "run [150]:\n",
      "Style Loss : 126.377403 Content Loss: 198.414551, TV Loss:63.9433 Diff Loss: 650.2214 \n",
      "\n"
     ]
    },
    {
     "name": "stderr",
     "output_type": "stream",
     "text": [
      "Lossy conversion from float64 to uint8. Range [0, 1]. Convert image to uint8 prior to saving to suppress this warning.\n"
     ]
    },
    {
     "name": "stdout",
     "output_type": "stream",
     "text": [
      "run [200]:\n",
      "Style Loss : 103.961853 Content Loss: 197.160339, TV Loss:60.8118 Diff Loss: 653.3530 \n",
      "\n"
     ]
    },
    {
     "name": "stderr",
     "output_type": "stream",
     "text": [
      "Lossy conversion from float64 to uint8. Range [0, 1]. Convert image to uint8 prior to saving to suppress this warning.\n"
     ]
    },
    {
     "name": "stdout",
     "output_type": "stream",
     "text": [
      "run [250]:\n",
      "Style Loss : 92.751579 Content Loss: 196.260559, TV Loss:58.7856 Diff Loss: 655.3792 \n",
      "\n"
     ]
    },
    {
     "name": "stderr",
     "output_type": "stream",
     "text": [
      "Lossy conversion from float64 to uint8. Range [0, 1]. Convert image to uint8 prior to saving to suppress this warning.\n"
     ]
    },
    {
     "name": "stdout",
     "output_type": "stream",
     "text": [
      "run [300]:\n",
      "Style Loss : 86.168167 Content Loss: 195.497742, TV Loss:57.4442 Diff Loss: 656.7205 \n",
      "\n"
     ]
    },
    {
     "name": "stderr",
     "output_type": "stream",
     "text": [
      "Lossy conversion from float64 to uint8. Range [0, 1]. Convert image to uint8 prior to saving to suppress this warning.\n"
     ]
    },
    {
     "name": "stdout",
     "output_type": "stream",
     "text": [
      "run [350]:\n",
      "Style Loss : 81.719978 Content Loss: 194.891174, TV Loss:56.5175 Diff Loss: 657.6472 \n",
      "\n"
     ]
    },
    {
     "name": "stderr",
     "output_type": "stream",
     "text": [
      "Lossy conversion from float64 to uint8. Range [0, 1]. Convert image to uint8 prior to saving to suppress this warning.\n"
     ]
    },
    {
     "name": "stdout",
     "output_type": "stream",
     "text": [
      "run [400]:\n",
      "Style Loss : 78.591476 Content Loss: 194.397552, TV Loss:55.6546 Diff Loss: 658.5101 \n",
      "\n"
     ]
    },
    {
     "name": "stderr",
     "output_type": "stream",
     "text": [
      "Lossy conversion from float64 to uint8. Range [0, 1]. Convert image to uint8 prior to saving to suppress this warning.\n"
     ]
    },
    {
     "name": "stdout",
     "output_type": "stream",
     "text": [
      "run [450]:\n",
      "Style Loss : 76.247047 Content Loss: 193.915573, TV Loss:55.0218 Diff Loss: 659.1430 \n",
      "\n"
     ]
    },
    {
     "name": "stderr",
     "output_type": "stream",
     "text": [
      "Lossy conversion from float64 to uint8. Range [0, 1]. Convert image to uint8 prior to saving to suppress this warning.\n"
     ]
    },
    {
     "name": "stdout",
     "output_type": "stream",
     "text": [
      "run [500]:\n",
      "Style Loss : 74.204590 Content Loss: 193.569794, TV Loss:54.4472 Diff Loss: 659.7176 \n",
      "\n"
     ]
    },
    {
     "name": "stderr",
     "output_type": "stream",
     "text": [
      "Lossy conversion from float64 to uint8. Range [0, 1]. Convert image to uint8 prior to saving to suppress this warning.\n",
      " 88%|████████▊ | 22/25 [16:40<02:53, 57.93s/it]Lossy conversion from float64 to uint8. Range [0, 1]. Convert image to uint8 prior to saving to suppress this warning.\n",
      "Lossy conversion from float64 to uint8. Range [0, 1]. Convert image to uint8 prior to saving to suppress this warning.\n"
     ]
    },
    {
     "name": "stdout",
     "output_type": "stream",
     "text": [
      "Building the style transfer model..\n",
      "Optimizing..\n"
     ]
    },
    {
     "name": "stderr",
     "output_type": "stream",
     "text": [
      "Lossy conversion from float64 to uint8. Range [0, 1]. Convert image to uint8 prior to saving to suppress this warning.\n"
     ]
    },
    {
     "name": "stdout",
     "output_type": "stream",
     "text": [
      "run [50]:\n",
      "Style Loss : 358.892731 Content Loss: 256.575134, TV Loss:102.6040 Diff Loss: 444.1772 \n",
      "\n"
     ]
    },
    {
     "name": "stderr",
     "output_type": "stream",
     "text": [
      "Lossy conversion from float64 to uint8. Range [0, 1]. Convert image to uint8 prior to saving to suppress this warning.\n"
     ]
    },
    {
     "name": "stdout",
     "output_type": "stream",
     "text": [
      "run [100]:\n",
      "Style Loss : 203.749512 Content Loss: 246.408508, TV Loss:73.1429 Diff Loss: 473.6382 \n",
      "\n"
     ]
    },
    {
     "name": "stderr",
     "output_type": "stream",
     "text": [
      "Lossy conversion from float64 to uint8. Range [0, 1]. Convert image to uint8 prior to saving to suppress this warning.\n"
     ]
    },
    {
     "name": "stdout",
     "output_type": "stream",
     "text": [
      "run [150]:\n",
      "Style Loss : 157.371887 Content Loss: 243.144150, TV Loss:65.5364 Diff Loss: 481.2448 \n",
      "\n"
     ]
    },
    {
     "name": "stderr",
     "output_type": "stream",
     "text": [
      "Lossy conversion from float64 to uint8. Range [0, 1]. Convert image to uint8 prior to saving to suppress this warning.\n"
     ]
    },
    {
     "name": "stdout",
     "output_type": "stream",
     "text": [
      "run [200]:\n",
      "Style Loss : 130.006927 Content Loss: 241.584930, TV Loss:61.9474 Diff Loss: 484.8338 \n",
      "\n"
     ]
    },
    {
     "name": "stderr",
     "output_type": "stream",
     "text": [
      "Lossy conversion from float64 to uint8. Range [0, 1]. Convert image to uint8 prior to saving to suppress this warning.\n"
     ]
    },
    {
     "name": "stdout",
     "output_type": "stream",
     "text": [
      "run [250]:\n",
      "Style Loss : 114.360497 Content Loss: 240.624619, TV Loss:59.6979 Diff Loss: 487.0833 \n",
      "\n"
     ]
    },
    {
     "name": "stderr",
     "output_type": "stream",
     "text": [
      "Lossy conversion from float64 to uint8. Range [0, 1]. Convert image to uint8 prior to saving to suppress this warning.\n"
     ]
    },
    {
     "name": "stdout",
     "output_type": "stream",
     "text": [
      "run [300]:\n",
      "Style Loss : 104.668625 Content Loss: 239.735107, TV Loss:58.1832 Diff Loss: 488.5980 \n",
      "\n"
     ]
    },
    {
     "name": "stderr",
     "output_type": "stream",
     "text": [
      "Lossy conversion from float64 to uint8. Range [0, 1]. Convert image to uint8 prior to saving to suppress this warning.\n"
     ]
    },
    {
     "name": "stdout",
     "output_type": "stream",
     "text": [
      "run [350]:\n",
      "Style Loss : 98.020981 Content Loss: 239.117203, TV Loss:57.0540 Diff Loss: 489.7272 \n",
      "\n"
     ]
    },
    {
     "name": "stderr",
     "output_type": "stream",
     "text": [
      "Lossy conversion from float64 to uint8. Range [0, 1]. Convert image to uint8 prior to saving to suppress this warning.\n"
     ]
    },
    {
     "name": "stdout",
     "output_type": "stream",
     "text": [
      "run [400]:\n",
      "Style Loss : 93.138298 Content Loss: 238.506683, TV Loss:56.1724 Diff Loss: 490.6088 \n",
      "\n"
     ]
    },
    {
     "name": "stderr",
     "output_type": "stream",
     "text": [
      "Lossy conversion from float64 to uint8. Range [0, 1]. Convert image to uint8 prior to saving to suppress this warning.\n"
     ]
    },
    {
     "name": "stdout",
     "output_type": "stream",
     "text": [
      "run [450]:\n",
      "Style Loss : 88.930672 Content Loss: 238.083832, TV Loss:55.5313 Diff Loss: 491.2499 \n",
      "\n"
     ]
    },
    {
     "name": "stderr",
     "output_type": "stream",
     "text": [
      "Lossy conversion from float64 to uint8. Range [0, 1]. Convert image to uint8 prior to saving to suppress this warning.\n"
     ]
    },
    {
     "name": "stdout",
     "output_type": "stream",
     "text": [
      "run [500]:\n",
      "Style Loss : 85.115288 Content Loss: 237.778015, TV Loss:54.9459 Diff Loss: 491.8353 \n",
      "\n"
     ]
    },
    {
     "name": "stderr",
     "output_type": "stream",
     "text": [
      "Lossy conversion from float64 to uint8. Range [0, 1]. Convert image to uint8 prior to saving to suppress this warning.\n",
      " 92%|█████████▏| 23/25 [17:38<01:55, 57.86s/it]Lossy conversion from float64 to uint8. Range [0, 1]. Convert image to uint8 prior to saving to suppress this warning.\n",
      "Lossy conversion from float64 to uint8. Range [0, 1]. Convert image to uint8 prior to saving to suppress this warning.\n"
     ]
    },
    {
     "name": "stdout",
     "output_type": "stream",
     "text": [
      "Building the style transfer model..\n",
      "Optimizing..\n"
     ]
    },
    {
     "name": "stderr",
     "output_type": "stream",
     "text": [
      "Lossy conversion from float64 to uint8. Range [0, 1]. Convert image to uint8 prior to saving to suppress this warning.\n"
     ]
    },
    {
     "name": "stdout",
     "output_type": "stream",
     "text": [
      "run [50]:\n",
      "Style Loss : 554.265442 Content Loss: 298.745697, TV Loss:118.5940 Diff Loss: 223.0389 \n",
      "\n"
     ]
    },
    {
     "name": "stderr",
     "output_type": "stream",
     "text": [
      "Lossy conversion from float64 to uint8. Range [0, 1]. Convert image to uint8 prior to saving to suppress this warning.\n"
     ]
    },
    {
     "name": "stdout",
     "output_type": "stream",
     "text": [
      "run [100]:\n",
      "Style Loss : 273.232544 Content Loss: 296.531708, TV Loss:80.2619 Diff Loss: 261.3711 \n",
      "\n"
     ]
    },
    {
     "name": "stderr",
     "output_type": "stream",
     "text": [
      "Lossy conversion from float64 to uint8. Range [0, 1]. Convert image to uint8 prior to saving to suppress this warning.\n"
     ]
    },
    {
     "name": "stdout",
     "output_type": "stream",
     "text": [
      "run [150]:\n",
      "Style Loss : 197.189713 Content Loss: 295.261963, TV Loss:70.5012 Diff Loss: 271.1318 \n",
      "\n"
     ]
    },
    {
     "name": "stderr",
     "output_type": "stream",
     "text": [
      "Lossy conversion from float64 to uint8. Range [0, 1]. Convert image to uint8 prior to saving to suppress this warning.\n"
     ]
    },
    {
     "name": "stdout",
     "output_type": "stream",
     "text": [
      "run [200]:\n",
      "Style Loss : 151.508698 Content Loss: 295.764435, TV Loss:66.5574 Diff Loss: 275.0756 \n",
      "\n"
     ]
    },
    {
     "name": "stderr",
     "output_type": "stream",
     "text": [
      "Lossy conversion from float64 to uint8. Range [0, 1]. Convert image to uint8 prior to saving to suppress this warning.\n"
     ]
    },
    {
     "name": "stdout",
     "output_type": "stream",
     "text": [
      "run [250]:\n",
      "Style Loss : 122.682945 Content Loss: 296.490692, TV Loss:64.1821 Diff Loss: 277.4508 \n",
      "\n"
     ]
    },
    {
     "name": "stderr",
     "output_type": "stream",
     "text": [
      "Lossy conversion from float64 to uint8. Range [0, 1]. Convert image to uint8 prior to saving to suppress this warning.\n"
     ]
    },
    {
     "name": "stdout",
     "output_type": "stream",
     "text": [
      "run [300]:\n",
      "Style Loss : 102.666565 Content Loss: 297.015686, TV Loss:62.4484 Diff Loss: 279.1846 \n",
      "\n"
     ]
    },
    {
     "name": "stderr",
     "output_type": "stream",
     "text": [
      "Lossy conversion from float64 to uint8. Range [0, 1]. Convert image to uint8 prior to saving to suppress this warning.\n"
     ]
    },
    {
     "name": "stdout",
     "output_type": "stream",
     "text": [
      "run [350]:\n",
      "Style Loss : 87.971161 Content Loss: 297.193665, TV Loss:60.8576 Diff Loss: 280.7754 \n",
      "\n"
     ]
    },
    {
     "name": "stderr",
     "output_type": "stream",
     "text": [
      "Lossy conversion from float64 to uint8. Range [0, 1]. Convert image to uint8 prior to saving to suppress this warning.\n"
     ]
    },
    {
     "name": "stdout",
     "output_type": "stream",
     "text": [
      "run [400]:\n",
      "Style Loss : 78.061333 Content Loss: 297.325775, TV Loss:59.0962 Diff Loss: 282.5368 \n",
      "\n"
     ]
    },
    {
     "name": "stderr",
     "output_type": "stream",
     "text": [
      "Lossy conversion from float64 to uint8. Range [0, 1]. Convert image to uint8 prior to saving to suppress this warning.\n"
     ]
    },
    {
     "name": "stdout",
     "output_type": "stream",
     "text": [
      "run [450]:\n",
      "Style Loss : 71.497810 Content Loss: 296.914795, TV Loss:57.6515 Diff Loss: 283.9814 \n",
      "\n"
     ]
    },
    {
     "name": "stderr",
     "output_type": "stream",
     "text": [
      "Lossy conversion from float64 to uint8. Range [0, 1]. Convert image to uint8 prior to saving to suppress this warning.\n"
     ]
    },
    {
     "name": "stdout",
     "output_type": "stream",
     "text": [
      "run [500]:\n",
      "Style Loss : 66.261436 Content Loss: 297.022064, TV Loss:56.0660 Diff Loss: 285.5670 \n",
      "\n"
     ]
    },
    {
     "name": "stderr",
     "output_type": "stream",
     "text": [
      "Lossy conversion from float64 to uint8. Range [0, 1]. Convert image to uint8 prior to saving to suppress this warning.\n",
      " 96%|█████████▌| 24/25 [18:36<00:57, 57.95s/it]Lossy conversion from float64 to uint8. Range [0, 1]. Convert image to uint8 prior to saving to suppress this warning.\n",
      "Lossy conversion from float64 to uint8. Range [0, 1]. Convert image to uint8 prior to saving to suppress this warning.\n"
     ]
    },
    {
     "name": "stdout",
     "output_type": "stream",
     "text": [
      "Building the style transfer model..\n",
      "Optimizing..\n"
     ]
    },
    {
     "name": "stderr",
     "output_type": "stream",
     "text": [
      "Lossy conversion from float64 to uint8. Range [0, 1]. Convert image to uint8 prior to saving to suppress this warning.\n"
     ]
    },
    {
     "name": "stdout",
     "output_type": "stream",
     "text": [
      "run [50]:\n",
      "Style Loss : 893.268005 Content Loss: 339.478760, TV Loss:139.9830 Diff Loss: 1.4841 \n",
      "\n"
     ]
    },
    {
     "name": "stderr",
     "output_type": "stream",
     "text": [
      "Lossy conversion from float64 to uint8. Range [0, 1]. Convert image to uint8 prior to saving to suppress this warning.\n"
     ]
    },
    {
     "name": "stdout",
     "output_type": "stream",
     "text": [
      "run [100]:\n",
      "Style Loss : 323.176208 Content Loss: 351.062927, TV Loss:126.5201 Diff Loss: 11.9787 \n",
      "\n"
     ]
    },
    {
     "name": "stderr",
     "output_type": "stream",
     "text": [
      "Lossy conversion from float64 to uint8. Range [0, 1]. Convert image to uint8 prior to saving to suppress this warning.\n"
     ]
    },
    {
     "name": "stdout",
     "output_type": "stream",
     "text": [
      "run [150]:\n",
      "Style Loss : 132.881653 Content Loss: 355.427307, TV Loss:94.7010 Diff Loss: 43.7978 \n",
      "\n"
     ]
    },
    {
     "name": "stderr",
     "output_type": "stream",
     "text": [
      "Lossy conversion from float64 to uint8. Range [0, 1]. Convert image to uint8 prior to saving to suppress this warning.\n"
     ]
    },
    {
     "name": "stdout",
     "output_type": "stream",
     "text": [
      "run [200]:\n",
      "Style Loss : 84.169441 Content Loss: 354.743286, TV Loss:76.4022 Diff Loss: 62.0966 \n",
      "\n"
     ]
    },
    {
     "name": "stderr",
     "output_type": "stream",
     "text": [
      "Lossy conversion from float64 to uint8. Range [0, 1]. Convert image to uint8 prior to saving to suppress this warning.\n"
     ]
    },
    {
     "name": "stdout",
     "output_type": "stream",
     "text": [
      "run [250]:\n",
      "Style Loss : 65.339691 Content Loss: 354.243164, TV Loss:69.1217 Diff Loss: 69.3771 \n",
      "\n"
     ]
    },
    {
     "name": "stderr",
     "output_type": "stream",
     "text": [
      "Lossy conversion from float64 to uint8. Range [0, 1]. Convert image to uint8 prior to saving to suppress this warning.\n"
     ]
    },
    {
     "name": "stdout",
     "output_type": "stream",
     "text": [
      "run [300]:\n",
      "Style Loss : 56.341072 Content Loss: 353.391846, TV Loss:64.6385 Diff Loss: 73.8604 \n",
      "\n"
     ]
    },
    {
     "name": "stderr",
     "output_type": "stream",
     "text": [
      "Lossy conversion from float64 to uint8. Range [0, 1]. Convert image to uint8 prior to saving to suppress this warning.\n"
     ]
    },
    {
     "name": "stdout",
     "output_type": "stream",
     "text": [
      "run [350]:\n",
      "Style Loss : 50.573524 Content Loss: 352.821899, TV Loss:62.2866 Diff Loss: 76.2122 \n",
      "\n"
     ]
    },
    {
     "name": "stderr",
     "output_type": "stream",
     "text": [
      "Lossy conversion from float64 to uint8. Range [0, 1]. Convert image to uint8 prior to saving to suppress this warning.\n"
     ]
    },
    {
     "name": "stdout",
     "output_type": "stream",
     "text": [
      "run [400]:\n",
      "Style Loss : 46.887463 Content Loss: 352.217407, TV Loss:60.0900 Diff Loss: 78.4089 \n",
      "\n"
     ]
    },
    {
     "name": "stderr",
     "output_type": "stream",
     "text": [
      "Lossy conversion from float64 to uint8. Range [0, 1]. Convert image to uint8 prior to saving to suppress this warning.\n"
     ]
    },
    {
     "name": "stdout",
     "output_type": "stream",
     "text": [
      "run [450]:\n",
      "Style Loss : 44.422939 Content Loss: 351.655273, TV Loss:58.3304 Diff Loss: 80.1684 \n",
      "\n"
     ]
    },
    {
     "name": "stderr",
     "output_type": "stream",
     "text": [
      "Lossy conversion from float64 to uint8. Range [0, 1]. Convert image to uint8 prior to saving to suppress this warning.\n"
     ]
    },
    {
     "name": "stdout",
     "output_type": "stream",
     "text": [
      "run [500]:\n",
      "Style Loss : 42.638931 Content Loss: 351.253815, TV Loss:57.2598 Diff Loss: 81.2390 \n",
      "\n"
     ]
    },
    {
     "name": "stderr",
     "output_type": "stream",
     "text": [
      "Lossy conversion from float64 to uint8. Range [0, 1]. Convert image to uint8 prior to saving to suppress this warning.\n",
      "100%|██████████| 25/25 [19:35<00:00, 47.03s/it]\n"
     ]
    }
   ],
   "source": [
    "color_vol = read_numpy_volume(path_volume)\n",
    "\n",
    "grey_vol = to_grey(read_numpy_volume(path_volume))\n",
    "\n",
    "print('The shape of input volume = {}'.format(grey_vol.shape))\n",
    "\n",
    "g_vol = sitk.GetImageFromArray(grey_vol)\n",
    "g_vol = sitk.WriteImage(g_vol, OUTPUT_DIR+'g.mhd')\n",
    "\n",
    "hints_vol = generate_hints(grey_vol, color_vol, offset=off, axis=ax)\n",
    "h,ww,l,c = grey_vol.shape"
   ]
  },
  {
   "cell_type": "code",
   "execution_count": 14,
   "metadata": {},
   "outputs": [
    {
     "data": {
      "image/png": "[encoded data removed]",
      "text/plain": [
       "<Figure size 432x288 with 1 Axes>"
      ]
     },
     "metadata": {
      "needs_background": "light"
     },
     "output_type": "display_data"
    }
   ],
   "source": [
    "plt.imshow(hints_vol[45,:,:]); plt.show()"
   ]
  },
  {
   "cell_type": "code",
   "execution_count": 15,
   "metadata": {},
   "outputs": [
    {
     "data": {
      "image/png": "[encoded data removed]",
      "text/plain": [
       "<Figure size 432x288 with 1 Axes>"
      ]
     },
     "metadata": {
      "needs_background": "light"
     },
     "output_type": "display_data"
    }
   ],
   "source": [
    "plt.imshow(grey_vol[45,:,:]); plt.show()"
   ]
  },
  {
   "cell_type": "markdown",
   "metadata": {},
   "source": [
    "### Initialize optimization parameters"
   ]
  },
  {
   "cell_type": "markdown",
   "metadata": {},
   "source": [
    "#### Parameter for class WindowWidth"
   ]
  },
  {
   "cell_type": "code",
   "execution_count": 16,
   "metadata": {},
   "outputs": [],
   "source": [
    "wd_width = 1"
   ]
  },
  {
   "cell_type": "markdown",
   "metadata": {},
   "source": [
    "#### Create weight matrix A and vectors b_u and b_v"
   ]
  },
  {
   "cell_type": "code",
   "execution_count": 17,
   "metadata": {},
   "outputs": [
    {
     "name": "stderr",
     "output_type": "stream",
     "text": [
      "100%|██████████| 128/128 [03:19<00:00,  1.56s/it]\n"
     ]
    }
   ],
   "source": [
    "pic_size = h*ww*l\n",
    "\n",
    "channel_Y,_,_ = colorsys.rgb_to_yiq(grey_vol[:,:,:,0],grey_vol[:,:,:,1],grey_vol[:,:,:,2])\n",
    "_,channel_U,channel_V = colorsys.rgb_to_yiq(hints_vol[:,:,:,0],hints_vol[:,:,:,1],hints_vol[:,:,:,2])\n",
    "\n",
    "map_colored = (abs(channel_U) + abs(channel_V)) > 0.0001\n",
    "\n",
    "pic_yuv = np.zeros((h,ww,l,3))\n",
    "pic_yuv[:,:,:,0] = channel_Y\n",
    "pic_yuv[:,:,:,1] = channel_U\n",
    "pic_yuv[:,:,:,2] = channel_V\n",
    "weightData = []\n",
    "num_pixel_bw = 0\n",
    "\n",
    "for i in tqdm.trange(h):\n",
    "    for j in range(ww):\n",
    "        for k in range(l):\n",
    "            res = []\n",
    "            w = WindowNeighbor(wd_width, (i,j,k), pic_yuv)\n",
    "            if( not map_colored[i,j,k]):\n",
    "                weights = affinity_a(w)\n",
    "                for e in weights:\n",
    "                    weightData.append([w.center, (e[0],e[1],e[2]), e[3]])\n",
    "            weightData.append([w.center, (w.center[0],w.center[1], w.center[2]), 1.])"
   ]
  },
  {
   "cell_type": "code",
   "execution_count": 18,
   "metadata": {},
   "outputs": [],
   "source": [
    "sp_idx_rc_data = [[to_seq(e[0][0],e[0][1],e[0][2],grey_vol), to_seq(e[1][0],e[1][1],e[1][2],grey_vol), e[2]] for e in weightData]\n",
    "sp_idx_rc = np.array(sp_idx_rc_data, dtype=np.integer)[:,0:2]\n",
    "sp_data = np.array(sp_idx_rc_data, dtype=np.float64)[:,2]\n",
    "\n",
    "matA = csr_matrix((sp_data, (sp_idx_rc[:,0], sp_idx_rc[:,1])), shape=(pic_size, pic_size))\n",
    "\n",
    "b_u = np.zeros(pic_size)\n",
    "b_v = np.zeros(pic_size)\n",
    "idx_colored = np.nonzero(map_colored.reshape(pic_size, order='C'))\n",
    "\n",
    "pic_u_flat = pic_yuv[:,:,:,1].reshape(pic_size, order='C')\n",
    "b_u[idx_colored] = pic_u_flat[idx_colored]\n",
    "\n",
    "pic_v_flat = pic_yuv[:,:,:,2].reshape(pic_size, order='C')\n",
    "b_v[idx_colored] = pic_v_flat[idx_colored]"
   ]
  },
  {
   "cell_type": "markdown",
   "metadata": {},
   "source": [
    "### Run optimization"
   ]
  },
  {
   "cell_type": "code",
   "execution_count": 19,
   "metadata": {},
   "outputs": [
    {
     "name": "stdout",
     "output_type": "stream",
     "text": [
      "  Detected a non-Hermitian matrix\n",
      "    maxiter = 400\n",
      "    iteration 1\n",
      "    iteration 2\n",
      "    iteration 3\n",
      "    iteration 4\n",
      "    iteration 5\n",
      "    iteration 6\n",
      "    iteration 7\n",
      "    iteration 8\n",
      "    iteration 9\n",
      "    iteration 10\n",
      "  Residuals ||r_k||_M, ||r_0||_M = 4.28e-09, 4.18e+02\n",
      "  Residual reduction ||r_k||_M/||r_0||_M = 1.02e-11\n",
      "  Detected a non-Hermitian matrix\n",
      "    maxiter = 400\n",
      "    iteration 1\n",
      "    iteration 2\n",
      "    iteration 3\n",
      "    iteration 4\n",
      "    iteration 5\n",
      "    iteration 6\n",
      "    iteration 7\n",
      "    iteration 8\n",
      "    iteration 9\n",
      "  Residuals ||r_k||_M, ||r_0||_M = 3.58e-08, 4.31e+02\n",
      "  Residual reduction ||r_k||_M/||r_0||_M = 8.30e-11\n"
     ]
    }
   ],
   "source": [
    "ansY = pic_yuv[:,:,:,0].reshape(pic_size, order='C')\n",
    "ansU = solve(matA, b_u, tol=1.0e-10, verb=True)\n",
    "ansV = solve(matA, b_v, tol=1.0e-10, verb=True)"
   ]
  },
  {
   "cell_type": "code",
   "execution_count": 20,
   "metadata": {},
   "outputs": [],
   "source": [
    "pic_ans = yuv_channels_to_rgb(ansY,ansU,ansV, h, ww, l)"
   ]
  },
  {
   "cell_type": "code",
   "execution_count": 21,
   "metadata": {},
   "outputs": [],
   "source": [
    "sitk.WriteImage(sitk.GetImageFromArray(pic_ans), 't_out.mhd')"
   ]
  },
  {
   "cell_type": "markdown",
   "metadata": {},
   "source": [
    "# Post processing"
   ]
  },
  {
   "cell_type": "code",
   "execution_count": 22,
   "metadata": {},
   "outputs": [],
   "source": [
    "pic_ans = sitk.GetArrayFromImage(sitk.ReadImage('./t_out.mhd'))"
   ]
  },
  {
   "cell_type": "code",
   "execution_count": 23,
   "metadata": {},
   "outputs": [],
   "source": [
    "def post_process(grey_vol, color_vol, offset=10, axis='x'):\n",
    "    h,ww,l,c = grey_vol.shape\n",
    "    out_vol = np.zeros((h,ww,l,c))\n",
    "    out_vol = color_vol.copy()\n",
    "    \n",
    "    slices = []\n",
    "    if(axis=='x'):\n",
    "        num_hints = h // offset\n",
    "        for i in range(num_hints):\n",
    "            slices.append(grey_vol[i*offset,:,:,:])\n",
    "    elif(axis=='y'):\n",
    "        num_hints = ww // offset\n",
    "        for i in range(num_hints):\n",
    "            slices.append(grey_vol[:,i*offset,:,:])\n",
    "    else:\n",
    "        num_hints = l // offset\n",
    "        for i in range(num_hints):\n",
    "            slices.append(grey_vol[:,:,i*offset,:])\n",
    "\n",
    "    for i in tqdm.trange(num_hints):\n",
    "        if(axis=='x'):\n",
    "            out_vol[i*offset,:,:,:] = slices[i]\n",
    "        elif(axis=='y'):\n",
    "            out_vol[:,i*offset,:,:] = slices[i]\n",
    "        else:\n",
    "            out_vol[:,:,i*offset,:] = slices[i]\n",
    "            \n",
    "    pic_size = h*ww*l\n",
    "\n",
    "    channel_Y,_,_ = colorsys.rgb_to_yiq(grey_vol[:,:,:,0],grey_vol[:,:,:,1],grey_vol[:,:,:,2])\n",
    "    _,channel_U,channel_V = colorsys.rgb_to_yiq(out_vol[:,:,:,0],out_vol[:,:,:,1],out_vol[:,:,:,2])\n",
    "\n",
    "    map_colored = (abs(channel_U) + abs(channel_V)) > 0.0001\n",
    "\n",
    "    pic_yuv = np.zeros((h,ww,l,3))\n",
    "    pic_yuv[:,:,:,0] = channel_Y\n",
    "    pic_yuv[:,:,:,1] = channel_U\n",
    "    pic_yuv[:,:,:,2] = channel_V\n",
    "    weightData = []\n",
    "    num_pixel_bw = 0\n",
    "\n",
    "    for i in tqdm.trange(h):\n",
    "        for j in range(ww):\n",
    "            for k in range(l):\n",
    "                res = []\n",
    "                w = WindowNeighbor(wd_width, (i,j,k), pic_yuv)\n",
    "                if( not map_colored[i,j,k]):\n",
    "                    weights = affinity_a(w)\n",
    "                    for e in weights:\n",
    "                        weightData.append([w.center, (e[0],e[1],e[2]), e[3]])\n",
    "                weightData.append([w.center, (w.center[0],w.center[1], w.center[2]), 1.])\n",
    "                \n",
    "    sp_idx_rc_data = [[to_seq(e[0][0],e[0][1],e[0][2],grey_vol), to_seq(e[1][0],e[1][1],e[1][2],grey_vol), e[2]] for e in weightData]\n",
    "    sp_idx_rc = np.array(sp_idx_rc_data, dtype=np.integer)[:,0:2]\n",
    "    sp_data = np.array(sp_idx_rc_data, dtype=np.float64)[:,2]\n",
    "\n",
    "    matA = csr_matrix((sp_data, (sp_idx_rc[:,0], sp_idx_rc[:,1])), shape=(pic_size, pic_size))\n",
    "\n",
    "    b_u = np.zeros(pic_size)\n",
    "    b_v = np.zeros(pic_size)\n",
    "    idx_colored = np.nonzero(map_colored.reshape(pic_size, order='C'))\n",
    "\n",
    "    pic_u_flat = pic_yuv[:,:,:,1].reshape(pic_size, order='C')\n",
    "    b_u[idx_colored] = pic_u_flat[idx_colored]\n",
    "\n",
    "    pic_v_flat = pic_yuv[:,:,:,2].reshape(pic_size, order='C')\n",
    "    b_v[idx_colored] = pic_v_flat[idx_colored]\n",
    "    \n",
    "    ansY = pic_yuv[:,:,:,0].reshape(pic_size, order='C')\n",
    "    ansU = solve(matA, b_u, tol=1.0e-10, verb=False)\n",
    "    ansV = solve(matA, b_v, tol=1.0e-10, verb=False)\n",
    "\n",
    "    out_vol = yuv_channels_to_rgb(ansY,ansU,ansV, h, ww, l)\n",
    "    \n",
    "    return out_vol"
   ]
  },
  {
   "cell_type": "code",
   "execution_count": 24,
   "metadata": {},
   "outputs": [
    {
     "name": "stderr",
     "output_type": "stream",
     "text": [
      "100%|██████████| 25/25 [00:00<00:00, 1939.37it/s]\n",
      "100%|██████████| 128/128 [01:16<00:00,  1.67it/s]\n"
     ]
    }
   ],
   "source": [
    "post_processed_vol = post_process(grey_vol, pic_ans, off, ax)"
   ]
  },
  {
   "cell_type": "markdown",
   "metadata": {},
   "source": [
    "### Save the generated volume"
   ]
  },
  {
   "cell_type": "code",
   "execution_count": 25,
   "metadata": {},
   "outputs": [],
   "source": [
    "sitk.WriteImage(sitk.GetImageFromArray(post_processed_vol), OUTPUT_DIR+'post_process_1.mhd')"
   ]
  },
  {
   "cell_type": "markdown",
   "metadata": {},
   "source": [
    "# Final Generated Volume"
   ]
  },
  {
   "cell_type": "code",
   "execution_count": 26,
   "metadata": {},
   "outputs": [],
   "source": [
    "sitk.WriteImage(sitk.GetImageFromArray(exposure.adjust_gamma(post_processed_vol, 1.5)), \n",
    "                OUTPUT_DIR+'final_output.mhd')"
   ]
  }
 ],
 "metadata": {
  "kernelspec": {
   "display_name": "torchenv",
   "language": "python",
   "name": "torchenv"
  },
  "language_info": {
   "codemirror_mode": {
    "name": "ipython",
    "version": 3
   },
   "file_extension": ".py",
   "mimetype": "text/x-python",
   "name": "python",
   "nbconvert_exporter": "python",
   "pygments_lexer": "ipython3",
   "version": "3.7.5"
  }
 },
 "nbformat": 4,
 "nbformat_minor": 2
}
