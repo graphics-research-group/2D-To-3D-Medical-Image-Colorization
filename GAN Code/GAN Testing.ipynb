{
 "cells": [
  {
   "cell_type": "code",
   "execution_count": null,
   "metadata": {},
   "outputs": [],
   "source": [
    "import os\n",
    "import torch\n",
    "\n",
    "import numpy as np\n",
    "import SimpleITK as sitk\n",
    "\n",
    "from datetime import datetime \n",
    "from scipy.ndimage import zoom\n",
    "\n",
    "from all_models import *"
   ]
  },
  {
   "cell_type": "code",
   "execution_count": null,
   "metadata": {},
   "outputs": [],
   "source": [
    "device = torch.device('cuda' if torch.cuda.is_available() else 'cpu')"
   ]
  },
  {
   "cell_type": "markdown",
   "metadata": {},
   "source": [
    "# Test Volume Path"
   ]
  },
  {
   "cell_type": "code",
   "execution_count": null,
   "metadata": {},
   "outputs": [],
   "source": [
    "VOLUME = './midas_mri.nrrd' # Path to volume"
   ]
  },
  {
   "cell_type": "code",
   "execution_count": null,
   "metadata": {},
   "outputs": [],
   "source": [
    "PATH_GENERATOR_WEIGHTS = '/home/aradhya/cycleGAN/32dim_new/bce_fcn/2020-03-03 22:29:54.884919_masked_cryo_final/models/150_0_g_.pt'"
   ]
  },
  {
   "cell_type": "markdown",
   "metadata": {},
   "source": [
    "### Resize volume to 128^3"
   ]
  },
  {
   "cell_type": "code",
   "execution_count": null,
   "metadata": {},
   "outputs": [],
   "source": [
    "full_vol = sitk.ReadImage(VOLUME)\n",
    "full_vol_np_ = sitk.GetArrayFromImage(full_vol)\n",
    "full_vol_np_ = zoom(full_vol_np_, (128/full_vol_np_.shape[0],128/full_vol_np_.shape[1],88/full_vol_np_.shape[2]))"
   ]
  },
  {
   "cell_type": "markdown",
   "metadata": {},
   "source": [
    "### Luminance Remapping with original visible human MRI volume"
   ]
  },
  {
   "cell_type": "code",
   "execution_count": null,
   "metadata": {},
   "outputs": [],
   "source": [
    "full_vol_np_ = (full_vol_np_ - full_vol_np_.min()) / (full_vol_np_.max() - full_vol_np_.min())\n",
    "temp_vol_np = sitk.GetArrayFromImage(sitk.ReadImage('./volume_generator/resampled_16bit_128_128_88_registered_masked.mhd'))\n",
    "full_vol_np_ = np.std(temp_vol_np) / np.std(full_vol_np_) * (full_vol_np_ - np.mean(full_vol_np_)) + np.mean(temp_vol_np)"
   ]
  },
  {
   "cell_type": "code",
   "execution_count": null,
   "metadata": {},
   "outputs": [],
   "source": [
    "full_vol_tensor = torch.from_numpy(full_vol_np_).unsqueeze(0).unsqueeze(0).float()"
   ]
  },
  {
   "cell_type": "markdown",
   "metadata": {},
   "source": [
    "# Load Generator"
   ]
  },
  {
   "cell_type": "code",
   "execution_count": null,
   "metadata": {},
   "outputs": [],
   "source": [
    "generator = FCN3D().to(device)\n",
    "generator.load_state_dict(torch.load(PATH_GENERATOR_WEIGHTS))"
   ]
  },
  {
   "cell_type": "markdown",
   "metadata": {},
   "source": [
    "# Generate Poisson Grey Volume"
   ]
  },
  {
   "cell_type": "code",
   "execution_count": null,
   "metadata": {},
   "outputs": [],
   "source": [
    "if not os.path.exists('TEST_DIR'):\n",
    "    os.makedirs('TEST_DIR')\n",
    "\n",
    "now = str(datetime.now()) + '_16_out'\n",
    "if not os.path.exists(os.path.join('TEST_DIR', now)):\n",
    "    os.makedirs(os.path.join('TEST_DIR', now)) "
   ]
  },
  {
   "cell_type": "code",
   "execution_count": null,
   "metadata": {},
   "outputs": [],
   "source": [
    "out = generator(full_vol_tensor.to(device))"
   ]
  },
  {
   "cell_type": "code",
   "execution_count": null,
   "metadata": {},
   "outputs": [],
   "source": [
    "out_np = out.squeeze(0).squeeze(0).detach().cpu().numpy()\n",
    "out_sitk = sitk.GetImageFromArray(out_np)"
   ]
  },
  {
   "cell_type": "code",
   "execution_count": null,
   "metadata": {},
   "outputs": [],
   "source": [
    "in_np = full_vol_tensor.squeeze(0).squeeze(0).detach().cpu().numpy()\n",
    "in_sitk = sitk.GetImageFromArray(in_np)"
   ]
  },
  {
   "cell_type": "markdown",
   "metadata": {},
   "source": [
    "# Save Volume"
   ]
  },
  {
   "cell_type": "code",
   "execution_count": null,
   "metadata": {},
   "outputs": [],
   "source": [
    "sitk.WriteImage(out_sitk, '{}/generated_16_temp.mhd'.format(os.path.join('TEST_DIR', now)))\n",
    "sitk.WriteImage(in_sitk, '{}/mri_16in.mhd'.format(os.path.join('TEST_DIR', now)))"
   ]
  }
 ],
 "metadata": {
  "kernelspec": {
   "display_name": "Python 3",
   "language": "python",
   "name": "python3"
  },
  "language_info": {
   "codemirror_mode": {
    "name": "ipython",
    "version": 3
   },
   "file_extension": ".py",
   "mimetype": "text/x-python",
   "name": "python",
   "nbconvert_exporter": "python",
   "pygments_lexer": "ipython3",
   "version": "3.6.9"
  }
 },
 "nbformat": 4,
 "nbformat_minor": 2
}
