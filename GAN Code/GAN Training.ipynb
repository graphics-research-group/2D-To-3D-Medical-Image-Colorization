{
 "cells": [
  {
   "cell_type": "code",
   "execution_count": 1,
   "metadata": {},
   "outputs": [],
   "source": [
    "import os\n",
    "import sys\n",
    "import tqdm \n",
    "import time\n",
    "import math\n",
    "import torch\n",
    "import datetime\n",
    "import itertools\n",
    "import torchvision\n",
    "\n",
    "import numpy as np\n",
    "import torch.nn as nn\n",
    "import skimage.io as io\n",
    "import SimpleITK as sitk\n",
    "import torch.optim as optim\n",
    "import torch.nn.functional as F\n",
    "\n",
    "from tensorboardX import SummaryWriter\n",
    "from torch.utils.data import Dataset, DataLoader\n",
    "from sklearn.model_selection import train_test_split\n",
    "\n",
    "from all_models import *\n",
    "\n",
    "device = torch.device('cuda' if torch.cuda.is_available() else 'cpu')\n",
    "np.random.seed(42)\n",
    "\n",
    "custom_name = 'masked_cryo_final_gamma_zoom_fcn3d_resumed'"
   ]
  },
  {
   "cell_type": "markdown",
   "metadata": {},
   "source": [
    "# Models"
   ]
  },
  {
   "cell_type": "markdown",
   "metadata": {},
   "source": [
    "### Generator"
   ]
  },
  {
   "cell_type": "code",
   "execution_count": null,
   "metadata": {},
   "outputs": [],
   "source": [
    "generator = FCN3D().to(device)\n",
    "generator.load_state_dict(torch.load('./bce_fcn_gamma_zoom/2020-03-11 04:22:17.616635_masked_cryo_final_gamma_zoom_fcn3d_resumed/models/50_0_g_.pt')) # final model saved"
   ]
  },
  {
   "cell_type": "markdown",
   "metadata": {},
   "source": [
    "### Discriminator"
   ]
  },
  {
   "cell_type": "code",
   "execution_count": null,
   "metadata": {},
   "outputs": [],
   "source": [
    "discriminator = Discriminator_old(dim=32, sig=True).to(device)\n",
    "discriminator.load_state_dict(torch.load('./bce_fcn_gamma_zoom/2020-03-11 04:22:17.616635_masked_cryo_final_gamma_zoom_fcn3d_resumed/models/50_0_d_.pt'))"
   ]
  },
  {
   "cell_type": "markdown",
   "metadata": {},
   "source": [
    "# Dataloader"
   ]
  },
  {
   "cell_type": "markdown",
   "metadata": {},
   "source": [
    "Directory structure is as follows:\n",
    "- ROOT DIR\n",
    "    - MRI DIR: Containing all 3D MRI sub-volumes\n",
    "    - CRYO DIR: Containing all 3D Poisson Cryo sub-volumes (Poisson Generation Code Available in MATLAB)"
   ]
  },
  {
   "cell_type": "code",
   "execution_count": null,
   "metadata": {},
   "outputs": [],
   "source": [
    "DATA_DIR = './volume_generator/'\n",
    "MRI_DIR = 'random_gamma_zoom_volume_mri_16'\n",
    "CRYO_DIR = 'random_gamma_zoom_volume_poisson_16'\n",
    "\n",
    "mri_list = os.listdir(DATA_DIR+MRI_DIR)\n",
    "mri_list.sort()\n",
    "mri_list = mri_list[::2]\n",
    "\n",
    "cryo_list = os.listdir(DATA_DIR+CRYO_DIR)\n",
    "cryo_list.sort()\n",
    "cryo_list = cryo_list[::2]\n",
    "\n",
    "\n",
    "train_mr, test_mr, train_cryo, test_cryo = train_test_split(mri_list, cryo_list, test_size=0.1, random_state=42)\n",
    "\n",
    "\n",
    "batch = 8\n",
    "\n",
    "\n",
    "class VolumeDataset(Dataset):\n",
    "    def __init__(self, X, Y, root, size = (32,32,32)):\n",
    "        self.greypath = os.path.join(root, MRI_DIR)\n",
    "        self.colorpath = os.path.join(root, CRYO_DIR)\n",
    "\n",
    "        self.greyimg = X\n",
    "        self.colorimg = Y\n",
    "        self.imgsize = size\n",
    "\n",
    "    def __len__(self):\n",
    "        return len(self.greyimg)\n",
    "\n",
    "    def __getitem__(self, index):\n",
    "        mri = sitk.ReadImage(os.path.join(self.greypath, self.greyimg[index]))\n",
    "        mri = np.nan_to_num(sitk.GetArrayFromImage(mri))\n",
    "        \n",
    "        mri = torch.from_numpy(mri)\n",
    "        \n",
    "        cryo = sitk.ReadImage(os.path.join(self.colorpath, self.colorimg[index]))\n",
    "        cryo = np.nan_to_num(sitk.GetArrayFromImage(cryo))\n",
    "        cryo = torch.from_numpy(cryo)\n",
    "\n",
    "        return mri, cryo\n",
    "\n",
    "\n",
    "train_dataset = VolumeDataset(train_mr, train_cryo, DATA_DIR)\n",
    "train_dataloader = DataLoader(train_dataset, num_workers=2, shuffle=False, batch_size=batch)\n",
    "\n",
    "test_dataset = VolumeDataset(test_mr, test_cryo, DATA_DIR)\n",
    "test_dataloader = DataLoader(test_dataset, num_workers=2, shuffle=False, batch_size=batch)\n",
    "\n",
    "for i, data in enumerate(train_dataloader):\n",
    "    print(data[1].shape)\n",
    "    break"
   ]
  },
  {
   "cell_type": "markdown",
   "metadata": {},
   "source": [
    "# Optimizers"
   ]
  },
  {
   "cell_type": "code",
   "execution_count": null,
   "metadata": {},
   "outputs": [],
   "source": [
    "lr = 1.0e-4\n",
    "momentum = 0.95"
   ]
  },
  {
   "cell_type": "code",
   "execution_count": null,
   "metadata": {},
   "outputs": [],
   "source": [
    "optimizer_G = optim.Adam(generator.parameters(), lr=lr, betas=(momentum, 0.999))\n",
    "optimizer_D = optim.Adam(discriminator.parameters(), lr=lr, betas=(momentum, 0.999))"
   ]
  },
  {
   "cell_type": "code",
   "execution_count": null,
   "metadata": {},
   "outputs": [],
   "source": [
    "criterion_gan = nn.BCELoss().to(device)\n",
    "criterion_content = SSIM(device).to(device)\n",
    "criterion_l1 = nn.L1Loss().to(device)"
   ]
  },
  {
   "cell_type": "markdown",
   "metadata": {},
   "source": [
    "# "
   ]
  },
  {
   "cell_type": "code",
   "execution_count": null,
   "metadata": {},
   "outputs": [],
   "source": []
  },
  {
   "cell_type": "code",
   "execution_count": null,
   "metadata": {},
   "outputs": [],
   "source": []
  },
  {
   "cell_type": "code",
   "execution_count": null,
   "metadata": {},
   "outputs": [],
   "source": []
  },
  {
   "cell_type": "code",
   "execution_count": null,
   "metadata": {},
   "outputs": [],
   "source": []
  }
 ],
 "metadata": {
  "kernelspec": {
   "display_name": "Python 3",
   "language": "python",
   "name": "python3"
  },
  "language_info": {
   "codemirror_mode": {
    "name": "ipython",
    "version": 3
   },
   "file_extension": ".py",
   "mimetype": "text/x-python",
   "name": "python",
   "nbconvert_exporter": "python",
   "pygments_lexer": "ipython3",
   "version": "3.6.9"
  }
 },
 "nbformat": 4,
 "nbformat_minor": 2
}
